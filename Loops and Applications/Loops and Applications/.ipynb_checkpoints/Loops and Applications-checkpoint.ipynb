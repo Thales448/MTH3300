{
 "cells": [
  {
   "cell_type": "markdown",
   "metadata": {},
   "source": [
    "# Loops and Applications\n",
    "\n",
    "\n",
    "###  Accumulating Sums and Products; Counting; Repeating 50 Times With `range()`s; Saving `n` Entries; Sigma Notation; Monte Carlo Simulations; The Unit Square Game; Max/Min;  Numerical Integration; Searching; Searching with Position (and `break`); Updating Lists; Indices vs Values; Nested Loops; Multiplication Table; The Star Triangle; The Star Pyramid; Newton's Method; `while` Loops; Anything `for` Can Do `while` Can Do"
   ]
  },
  {
   "cell_type": "markdown",
   "metadata": {},
   "source": [
    "# 1. Accumulating Sums and Products (and `+=`)\n",
    "\n",
    "\n",
    "#### *  Loops are useful for sums and products of lists.\n",
    "\n",
    "#### * Strategy: \n",
    "#### --- start with \"empty\" accumulator variable\n",
    "#### --- update it by addition or multiplication each time through the loop.\n"
   ]
  },
  {
   "cell_type": "code",
   "execution_count": null,
   "metadata": {},
   "outputs": [],
   "source": [
    "# EXAMPLE 1a: Accumulating sum/product\n",
    "\n",
    "big_list_o_numbers = [15,72,1,84,52,48,83,26,94,58,73,95,51,73]\n",
    "\n",
    "# Let's add'em up.\n",
    "# Initialize sum to zero.\n",
    "running_sum = 0\n",
    "\n",
    "for num in big_list_o_numbers:\n",
    "    running_sum = running_sum + num\n",
    "    \n",
    "print('Sum is:', running_sum)\n",
    "\n",
    "# Let's multiply'em.\n",
    "# Initialize prod to ONE.\n",
    "running_prod = 1 \n",
    "\n",
    "for num in big_list_o_numbers:\n",
    "    running_prod = running_prod * num\n",
    "    \n",
    "print('Product is:', running_prod)\n"
   ]
  },
  {
   "cell_type": "markdown",
   "metadata": {},
   "source": [
    "<br><br><br><br><br>\n",
    "<br><br><br><br><br>\n",
    "\n",
    "#### * \"Update assignments\" like `sum = sum + num` are common\n",
    "\n",
    "#### * This has a shortcut:  `+=`\n",
    "\n",
    "#### * Example: `xyz += 1`  is equivalent to `xyz = xyz + 1`\n",
    "\n",
    "#### * Also, `-=`, `*=`, and `/=` work similarly"
   ]
  },
  {
   "cell_type": "code",
   "execution_count": null,
   "metadata": {},
   "outputs": [],
   "source": [
    "# EXAMPLE 1b: Average\n",
    "# 1. Use += to find the average of the list of numbers.\n",
    "# 2. Write it so that it still works if I add numbers to big_list.\n",
    "\n",
    "big_list = [15,72,1,84,52,48,83,26,94,58,73,95,51,73]\n",
    "\n",
    "#\n",
    "# AVERAGE?\n",
    "#\n",
    "\n",
    "\n",
    "\n"
   ]
  },
  {
   "cell_type": "markdown",
   "metadata": {},
   "source": [
    "<br><br><br><br><br>\n",
    "<br><br><br><br><br>\n",
    "\n",
    "# 2. Counting\n",
    "\n",
    "\n",
    "#### * Counting: initialize a counter variable to 0, add 1 for each list element of the type you're looking for\n",
    "\n"
   ]
  },
  {
   "cell_type": "code",
   "execution_count": null,
   "metadata": {},
   "outputs": [],
   "source": [
    "# EXAMPLE 2a: Counting 'B' words\n",
    "# How many words start with the letter 'B'?\n",
    "\n",
    "word_list = ['Apple', 'Ball', 'Animal', 'Bell', 'Band', 'Carrot', 'Angry', 'Banana', 'Bear', 'Attic', 'Candle', 'Cup', 'Beware']\n",
    "\n",
    "b_count = 0\n",
    "\n",
    "for x in word_list:\n",
    "    if x[0] == 'B':\n",
    "        b_count += 1\n",
    "    \n",
    "\n",
    "print('Number of B words =', b_count)\n"
   ]
  },
  {
   "cell_type": "markdown",
   "metadata": {},
   "source": [
    "<br><br><br><br><br>\n",
    "<br><br><br><br><br>\n",
    "\n",
    "#### * You can loop through a string!\n",
    "\n",
    "#### * For each iteration, target variable will be a new character in the string\n",
    "\n",
    "#### * For example:\n",
    "\n",
    "`string_variable = 'abcdef'` <br>\n",
    "`for letter in string_variable:`\n",
    "\n",
    "#### then `letter` would take be `'a'`, then `'b'`, etc.\n"
   ]
  },
  {
   "cell_type": "code",
   "execution_count": null,
   "metadata": {},
   "outputs": [],
   "source": [
    "# EXAMPLE 2b: How many 'e''s?\n",
    "\n",
    "# Note the use of the triple quotes for a multi-line string!\n",
    "my_sentence = 'Let\\'s figure out how many times the letter \\'e\\' appears in this sentence that I am currently writing.'\n",
    "\n",
    "\n",
    "\n",
    "# COUNT e's\n",
    "\n",
    "\n",
    "\n",
    "\n",
    "\n",
    "print(e_counter, 'e\\'s in that sentence.')"
   ]
  },
  {
   "cell_type": "markdown",
   "metadata": {},
   "source": [
    "<br><br><br><br><br>\n",
    "<br><br><br><br><br>\n",
    "\n",
    "# 3. Repeating 50 Times With `range()`\n",
    "\n",
    "#### * What if you want to print `Jerry! Hello!` fifty times?  \n",
    "\n",
    "#### * `range()` helps! \n",
    "\n",
    "#### * `range(50)` creates the \"list\" `[0, 1, 2, 3, 4, 5, ..., 49]`"
   ]
  },
  {
   "cell_type": "code",
   "execution_count": null,
   "metadata": {},
   "outputs": [],
   "source": [
    "# EXAMPLE 3a: Jerry! Hello5\n",
    "\n",
    "# This will print \"0 Jerry! Hello!\", then \"1 Jerry! Hello!\", etc., down to \"49 Jerry! Hello!\"\n",
    "# Note that despite the funny numbering, that would be exactly 50 \"Jerry! Hello!\"s.\n",
    "\n",
    "for i in range(50):\n",
    "    print(i, 'Jerry! Hello!')\n",
    "    \n",
    "\n",
    "# What if you didn't want the numbers \"0\", \"1\", ..., \"49\" printing out?\n",
    "for i in range(50):\n",
    "    print('Jerry! Hello!')\n",
    "\n",
    "    \n",
    "    # Moral: It's ok to not use the values in the list, or the variable i, in the body of the loop.  \n",
    "    # The list still has a use: making sure the body runs 50 times.\n"
   ]
  },
  {
   "cell_type": "markdown",
   "metadata": {},
   "source": [
    "<br><br><br><br><br>\n",
    "<br><br><br><br><br>\n",
    "\n",
    "#### * Three basic ways to create `range`s:\n",
    "\n",
    "#### --- `range(<int>)` will create \"list\" of integers starting at `0`, up to `<int>-1` (must be an INTEGER!)\n",
    "\n",
    "#### --- `range(<int>, <bigger int>)` will create \"list\" of integers starting with `<int>`, up to *but not including* `<bigger int>`\n",
    "\n",
    "#### --- and, `range(<int>, <bigger int>, <step>)` is like above, but counts `<step>` at a time (if `<step>` is positive).\n"
   ]
  },
  {
   "cell_type": "code",
   "execution_count": null,
   "metadata": {},
   "outputs": [],
   "source": [
    "#EXAMPLE 3b: Ranges\n",
    "\n",
    "print('range(10):')\n",
    "for i in range(10):\n",
    "    print(i, end = ' ')\n",
    "print('\\n')\n",
    "\n",
    "print('range(10, 20):')\n",
    "for i in range(10, 20):\n",
    "    print(i, end = ' ')\n",
    "print('\\n')\n",
    "\n",
    "print('range(10, 20, 2):')\n",
    "for i in range(10, 20, 2):\n",
    "    print(i, end = ' ')\n",
    "print('\\n')\n",
    "\n",
    "# It doesn't matter whether 20 would have been part of the sequence or not.\n",
    "# The range will keep going up to, but not including, any number >= 20.\n",
    "print('range(10, 20, 3):')\n",
    "for i in range(10, 20, 3):\n",
    "    print(i, end = ' ')\n",
    "   "
   ]
  },
  {
   "cell_type": "markdown",
   "metadata": {},
   "source": [
    "<br><br><br><br><br>\n",
    "<br><br><br><br><br>\n",
    "\n",
    "#### * Note 1: can use negative step sizes to count backwards!  \n",
    "\n",
    "#### `range(<x>, <y>, <negative step>)` will count starting with `<x>`...\n",
    "\n",
    "#### and ending when it reaches a number LESS than or equal to `<y>`  (so `<x>` should be larger number)\n",
    "\n",
    "\n",
    "#### * Note 2: a `range()` isn't reallllllly a `list`.  If you reallllllly need a list, try, e.g., `x = list(range(7))` (But you rarely need this!)"
   ]
  },
  {
   "cell_type": "code",
   "execution_count": null,
   "metadata": {},
   "outputs": [],
   "source": [
    "#EXAMPLE 3c: Two notes\n",
    "\n",
    "# NOTE 1: Here's how negative steps work.\n",
    "print('range(10, 0, -1):')\n",
    "for i in range(10, 0, -1):\n",
    "    print(i, end = ' ')\n",
    "print('\\n')\n",
    "\n",
    "print('range(100, 0, -7):')\n",
    "for i in range(100, 0, -7):\n",
    "    print(i, end = ' ')\n",
    "print('\\n\\n#####################\\n')\n",
    "\n",
    "# NOTE 2: A range() isn't really a list.\n",
    "# Look what happens if you want to print range(7)?\n",
    "\n",
    "x = range(7)\n",
    "print('Here\\'s x:', x)\n",
    "\n",
    "y = list(range(7))   # This IS a list.  You rarely need such a thing, though.   \n",
    "print('Here\\'s y:', y)\n"
   ]
  },
  {
   "cell_type": "markdown",
   "metadata": {},
   "source": [
    "<br><br><br><br><br>\n",
    "<br><br><br><br><br>\n",
    "\n",
    "# 4. Saving `n` Entries\n",
    "\n",
    "#### * What if you want to accept a list of `n` names from the user?\n",
    "\n",
    "\n",
    "#### * You need:\n",
    "\n",
    "#### --- a loop that runs `n` times, and\n",
    "\n",
    "#### --- and a list that starts out empty;\n",
    "\n",
    "#### --- each time through the loop, ask user for next name, append to list"
   ]
  },
  {
   "cell_type": "code",
   "execution_count": null,
   "metadata": {},
   "outputs": [],
   "source": [
    "# EXAMPLE 4a: Grab n names\n",
    "\n",
    "num_names = int(input('How many names do you want to store? '))\n",
    "\n",
    "#\n",
    "# LET'S CODE TOGETHER\n",
    "#\n",
    "\n",
    "\n",
    "print(name_list)"
   ]
  },
  {
   "cell_type": "markdown",
   "metadata": {},
   "source": [
    "<br><br><br><br><br>\n",
    "<br><br><br><br><br>\n",
    "\n",
    "# 5. Sigma Notation\n",
    "\n",
    "\n",
    "#### * $ \\displaystyle \\sum_{n = 1}^{100} \\sin(n^2) = ?$  `for`-loop is perfect! \n",
    "\n",
    "#### * $ \\displaystyle \\sum_{n = 1}^{100} \\sin(n^2)$ means:\n",
    "\n",
    "$$  \\sum_{n = 1}^{100} \\sin(n^2) = \\sin(1^2) + \\sin(2^2) + \\sin(3^2) + \\ldots + \\sin(100^2) $$\n",
    "\n",
    "#### * Suggestion: choose $n$ in `range(1, 101)`, to match the notation"
   ]
  },
  {
   "cell_type": "code",
   "execution_count": null,
   "metadata": {},
   "outputs": [],
   "source": [
    "# Example 5a: Sigma notation\n",
    "import math\n",
    "\n",
    "big_sigma = 0\n",
    "for n in range(1,101):\n",
    "    big_sigma += math.sin(n**2)\n",
    "print(big_sigma)\n",
    "\n",
    "###\n",
    "# This works too, since it has the right number of terms. \n",
    "# The formula might be a bit puzzling -- \n",
    "# but if you look at the first and second and last terms, it appears to work.\n",
    "big_sigma = 0\n",
    "for n in range(100):\n",
    "    big_sigma += math.sin( (n+1)**2 )\n",
    "print(big_sigma)"
   ]
  },
  {
   "cell_type": "markdown",
   "metadata": {},
   "source": [
    "<br><br><br><br><br>\n",
    "<br><br><br><br><br>\n",
    "\n",
    "\n",
    "#### * $(1.8)^2 + (2.4)^2 + (3.0)^2 + (3.6)^2 + \\ldots + (94.2)^2 = ??? $\n",
    "\n",
    "#### * `range()` doesn't work with non-integer step!\n",
    "\n",
    "#### * Let's find $\\Sigma$ notation: count number of terms, are find $n$th term in terms of $n$\n",
    "\n",
    "#### * First question: do you see pattern?  What is next term after $(3.6)^2$?"
   ]
  },
  {
   "cell_type": "code",
   "execution_count": null,
   "metadata": {},
   "outputs": [],
   "source": [
    "# EXAMPLE 5b: (1.8)^2 + (2.4)^2 + (3.0)^2 + (3.6)^2 + ... + (94.2)^2\n",
    "\n",
    "big_sig = 0\n",
    "\n",
    "\n",
    "\n",
    "\n",
    "\n",
    "print(big_sig)\n"
   ]
  },
  {
   "cell_type": "markdown",
   "metadata": {},
   "source": [
    "<br><br><br><br><br><br><br><br><br><br>\n",
    "\n",
    "# 6. Monte Carlo Simulations\n",
    "\n",
    "#### * Question: I roll 2 fair dice.  What is the probability that the sum of the values is odd and less than 10?\n",
    "\n",
    "\n",
    "#### * Frequentist perspective: if I roll 2 dice over and over again, probability $\\approx$ percent of the time that I get an odd sum $<10$ \n",
    "\n",
    "#### * (Law of Large Numbers and Central Limit Theorem can make this more precise)\n",
    "\n",
    "\n",
    "<br><br><br><br><br>\n",
    "<br><br><br><br><br>\n",
    "\n",
    "\n",
    "#### * Strategy:\n",
    "\n",
    "#### --- Pick 1,000,000 pairs of random numbers\n",
    "#### --- For each pair, add them\n",
    "#### --- If sum is odd and $<10$, add 1 to a \"count of successes\" variable\n",
    "#### --- At end, report (number of successes)/(total number of rolls) \n",
    "\n",
    "#### * This strategy is called *Monte Carlo simulation*."
   ]
  },
  {
   "cell_type": "code",
   "execution_count": null,
   "metadata": {},
   "outputs": [],
   "source": [
    "# EXAMPLE 6a: What's the probability that the sum of 2 dice is odd?\n",
    "import random\n",
    "\n",
    "# Here, \"success\" means the sum is odd and under than 10\n",
    "count_of_successes = 0\n",
    "\n",
    "num_of_rolls = 10 ** 6\n",
    "\n",
    "\n",
    "for i in range(num_of_rolls):\n",
    "    # Each time, generate two rolls...\n",
    "    first_roll = random.randrange(1,7)\n",
    "    second_roll = random.randrange(1,7)\n",
    "    \n",
    "    # ... then add them ...\n",
    "    sum_of_rolls = first_roll + second_roll\n",
    "    \n",
    "    # ... and if the sum is odd and under 10, add 1 to the count of successes!\n",
    "    if sum_of_rolls % 2 == 1 and sum_of_rolls < 10:\n",
    "        count_of_successes += 1\n",
    "\n",
    "# The relative frequency of success ~= probability        \n",
    "prob = count_of_successes/num_of_rolls\n",
    "print(f'Probability that two fair dice sum to an odd number less than 10 is approximately: {prob:.6f}')"
   ]
  },
  {
   "cell_type": "markdown",
   "metadata": {},
   "source": [
    "<br><br><br><br><br>\n",
    "<br><br><br><br><br>\n",
    "\n",
    "\n",
    "# 7.  The Unit Square Game\n",
    "\n",
    "#### * \"Unit square\" = square of points with $0 \\leq x \\leq 1$ and $0 \\leq y \\leq 1$\n",
    "\n",
    "#### * Question: if you pick a random point in unit square, what is probability that $x^2 + y^2 \\leq 1$?\n",
    "\n",
    "#### * Use `random.random()` to produce random `float`s between 0 and 1"
   ]
  },
  {
   "cell_type": "code",
   "execution_count": null,
   "metadata": {},
   "outputs": [],
   "source": [
    "# EXAMPLE 7a: What is the probability that a random point in the unit square satisfies x^2 + y^2 <= 1?\n",
    "\n",
    "import random\n",
    "\n",
    "count_of_successes = 0\n",
    "\n",
    "num_of_points = 10 ** 6\n",
    "\n",
    "\n",
    "#\n",
    "# WRITE THE SIMULATION LOOP\n",
    "#\n",
    "\n",
    "\n",
    "prob = count_of_successes/num_of_points\n",
    "\n",
    "\n",
    "print(f'Probability = {prob:.6f}')\n",
    "print(f'Probability times four = {4*prob:.6f}')\n",
    "# Why am I bothering to print the probability times 4?  You may notice something."
   ]
  },
  {
   "cell_type": "markdown",
   "metadata": {},
   "source": [
    "\n",
    "<br><br><br><br><br>\n",
    "<br><br><br><br><br>\n",
    "\n",
    "\n",
    "# 8.  Max/Min\n",
    "\n",
    "#### * How do we find max value of an unsorted list?\n",
    "\n",
    "#### * Think about how you do it as a human."
   ]
  },
  {
   "cell_type": "code",
   "execution_count": null,
   "metadata": {},
   "outputs": [],
   "source": [
    "# EXAMPLE 8a: Maximum\n",
    "\n",
    "big_list = [15,72,1,84,52,48,83,26,94,58,73,95,51,73]\n",
    "\n",
    "\n",
    "# First, we set largest to be the very first element.\n",
    "current_largest = big_list[0]\n",
    "\n",
    "# Then, we go through the list.  If a number is greater than \"largest\", we\n",
    "# reassign \"largest\" to be that number.\n",
    "for num in big_list:\n",
    "    #\n",
    "    # ????\n",
    "    #\n",
    "    \n",
    "print(current_largest)"
   ]
  },
  {
   "cell_type": "markdown",
   "metadata": {},
   "source": [
    "<br><br><br><br><br>\n",
    "<br><br><br><br><br>\n",
    "\n",
    "\n",
    "# 9. Numerical Integration\n",
    "\n",
    "\n",
    "#### * Problem: compute the area under the curve $y = f(x)$ from $x=a$ to $x=b$.  In other words, compute $\\int_a^b f(x) dx$.\n",
    "\n",
    "#### * Sometimes can't use Fundamental Theorem of Calculus, because either:\n",
    "\n",
    "#### --- $f(x)$ doesn't have an elementary antiderivative, or\n",
    "\n",
    "#### --- $f(x)$ doesn't even have a formula!\n",
    "\n",
    "#### * Use numerical methods for these problems.\n",
    "\n",
    "\n",
    "<br><br><br><br><br>\n",
    "<br><br><br><br><br>\n",
    "\n",
    "#### * Suppose you had to estimate $\\int_2^8 \\sqrt{1 + \\sin^2(x)} dx$.  Strategy:\n",
    "\n",
    "####  1. Pick a large value of $N$, like $N = 20$.\n",
    "\n",
    "#### 2. Divide the interval $[2,8]$ of $x$-values into $100$ equal intervals. \n",
    "\n",
    "\n",
    "![IMAGE NOT FOUND!!!!!!!!!!!!!!!!!](axis.png)\n",
    "\n",
    "#### 3. Next, plot 21 points of the graph of $\\sqrt{1 + \\sin^2(x)}$. \n",
    "\n",
    "\n",
    "\n",
    "![IMAGE NOT FOUND!!!!!!!!!!!!!!!!!](dots.png)\n",
    "\n",
    "\n",
    "\n",
    "<br><br><br><br><br>\n",
    "<br><br><br><br><br>\n",
    "\n",
    "\n",
    "#### 4. Now, connect the dots by **straight line segments** (sometimes this is called *linear interpolation*).\n",
    "\n",
    "\n",
    "![IMAGE NOT FOUND!!!!!!!!!!!!!!!!!](actual.png)\n",
    "\n",
    "\n",
    "\n",
    "\n",
    "\n",
    "#### 5. Finally, find the area under **this** graph, by thinking of it as 20 trapezoidal slices. \n",
    "\n",
    "#### -- Area of each slice will be $(\\mbox{left y value} + \\mbox{right y value})\\cdot \\frac{width}{2}$.  \n",
    "\n",
    "\n",
    "\n",
    "![IMAGE NOT FOUND!!!!!!!!!!!!!!!!!](trapezoids.png)\n",
    "\n",
    "\n",
    "<br><br><br><br><br>\n",
    "<br><br><br><br><br>\n",
    "\n",
    "\n",
    "#### * Good news: formula!\n",
    "\n",
    "#### $\\int_a^b f(x) dx \\approx \\frac{\\Delta x}{2}(1f(x_0) + 2f(x_1) + 2f(x_2) + \\ldots + 2f(x_{N-1}) + 1f(x_N))$, where $\\Delta x = \\frac{b-a}{n}$, and $x_i = a + i\\Delta x$.  \n",
    "\n",
    "#### * Suggestions: do it by hand once; match my notation (for example, $x_i$ ->  `x_i`)\n"
   ]
  },
  {
   "cell_type": "markdown",
   "metadata": {},
   "source": [
    "\n",
    "<br><br><br><br><br>\n",
    "<br><br><br><br><br>\n",
    "\n",
    "\n",
    "\n",
    "# 10. Searching\n",
    "\n",
    "#### * Use a `bool` variable, containing answer to \"have we found it yet?\""
   ]
  },
  {
   "cell_type": "code",
   "execution_count": null,
   "metadata": {},
   "outputs": [],
   "source": [
    "# EXAMPLE 10a: Search\n",
    "\n",
    "# 30 popular baby names\n",
    "names = ['Jacob', 'Sophia', 'Mason', 'Isabella', 'William', 'Emma', 'Jayden',\n",
    "         'Olivia', 'Noah', 'Ava', 'Michael', 'Emily', 'Ethan', 'Abigail',\n",
    "         'Alexander', 'Madison', 'Aiden', 'Mia', 'Daniel', 'Chloe', 'Anthony',\n",
    "         'Elizabeth', 'Matthew', 'Ella', 'Elijah', 'Addison', 'Joshua', 'Natalie', 'Liam', 'Lily']\n",
    "# Notice that a list can extend across several lines.\n",
    "\n",
    "\n",
    "search_entry = input('Input a name to search for: ')\n",
    "\n",
    "# found is the flag.  We will set it to be true if and when we find the name; \n",
    "# but at the beginning, we have not found the name yet.\n",
    "found = False\n",
    "\n",
    "for current_name in names:\n",
    "    if current_name == search_entry:\n",
    "        found = True    \n",
    "    else:\n",
    "        found = False  # Hmmm...\n",
    "        \n",
    "if found == True:\n",
    "    print(search_entry + ' is in the list!')\n",
    "else:\n",
    "    print('Nobody likes your name. Choose a better name.')"
   ]
  },
  {
   "cell_type": "markdown",
   "metadata": {},
   "source": [
    "#### * About the `else:`...\n",
    "\n",
    "#### * Remember that `if found == True:` is the same as `if found:`\n",
    "\n",
    "\n",
    "<br><br><br><br><br>\n",
    "<br><br><br><br><br>\n"
   ]
  },
  {
   "cell_type": "markdown",
   "metadata": {},
   "source": [
    "# 11. Searching with Position (and `break`)\n",
    "\n",
    "#### * Use a parallel counter, to find the position in the list where the name occurs.\n",
    "\n",
    "#### * Once you find it, `break` immediately exits a loop."
   ]
  },
  {
   "cell_type": "code",
   "execution_count": null,
   "metadata": {},
   "outputs": [],
   "source": [
    "# EXAMPLE 11a: Search, with a parallel counter\n",
    "\n",
    "names = ['Jacob', 'Sophia', 'Mason', 'Isabella', 'William', 'Emma', 'Jayden',\n",
    "         'Olivia', 'Noah', 'Ava', 'Michael', 'Emily', 'Ethan', 'Abigail',\n",
    "         'Alexander', 'Madison', 'Aiden', 'Mia', 'Daniel', 'Chloe', 'Anthony',\n",
    "         'Elizabeth', 'Matthew', 'Ella', 'Elijah', 'Addison', 'Joshua', 'Natalie', 'Liam', 'Lily']\n",
    "# In the beginning, not found\n",
    "found = False\n",
    "\n",
    "search_entry = input('Input a name to search for: ')\n",
    "\n",
    "\n",
    "pos = \n",
    "\n",
    "for current_name in names:\n",
    "    if current_name == search_entry:\n",
    "        found = True\n",
    "    \n",
    "    \n",
    "    \n",
    "if found:\n",
    "    print(f'{search_entry} is in the list, at position {pos}')\n",
    "else:\n",
    "    print('Nobody likes your name. Choose a better name.')"
   ]
  },
  {
   "cell_type": "markdown",
   "metadata": {},
   "source": [
    "\n",
    "<br><br><br><br><br>\n",
    "<br><br><br><br><br>\n",
    "\n",
    "\n",
    "# 12. Updating Lists\n",
    "\n",
    "#### * Let's say you have a list, and want to add 1 to every entry.\n",
    "\n",
    "#### * Why doesn't this work?"
   ]
  },
  {
   "cell_type": "code",
   "execution_count": null,
   "metadata": {},
   "outputs": [],
   "source": [
    "# EXAMPLE 12a: Bad Update\n",
    "\n",
    "shanes_list = [41,63,72,85,94,28]\n",
    "\n",
    "for x in shanes_list:\n",
    "    x += 1\n",
    "    \n",
    "print(shanes_list)"
   ]
  },
  {
   "cell_type": "markdown",
   "metadata": {},
   "source": [
    "\n",
    "<br><br><br><br><br>\n",
    "<br><br><br><br><br>\n",
    "#### * Problem: code\n",
    "\n",
    "#### --- creates a new variable `x`,\n",
    "\n",
    "#### --- assigns `x` to be values from `shanes_list`,\n",
    "\n",
    "#### --- and updates `x`!!! Not `shanes_list`.\n",
    "\n",
    "#### * Solution: use indices."
   ]
  },
  {
   "cell_type": "code",
   "execution_count": null,
   "metadata": {},
   "outputs": [],
   "source": [
    "# EXAMPLE 12b: Better Update\n",
    "\n",
    "shanes_list = [41,63,72,85,94,28]\n",
    "\n",
    "\n",
    "for i in range(len(shanes_list)):\n",
    "    # Instead of updating some other variable that copies shanes_list's values,\n",
    "    # we are updating shanes_list directly!  But we have to loop over INDICES to get this behavior.\n",
    "    shanes_list[i] += 1\n",
    "\n",
    "print(shanes_list)"
   ]
  },
  {
   "cell_type": "markdown",
   "metadata": {},
   "source": [
    "\n",
    "<br><br><br><br><br>\n",
    "<br><br><br><br><br>\n",
    "\n",
    "\n",
    "\n",
    "# 13. Indices Versus Values\n",
    "\n",
    "#### * We've just traversed a list by **index** rather that by **value**.  \n",
    "\n",
    "#### * I.e., writing\n",
    "\n",
    "`for i in range(len(x)):`\n",
    "\n",
    "#### instead of \n",
    "\n",
    "`for i in x:`\n",
    "\n",
    "#### * Useful for two big reasons:\n",
    "\n",
    "#### 1. updating lists, as we've just seen\n",
    "\n",
    "#### 2. *comparing different elements within the same list to each other.*\n",
    "\n",
    "#### * Example of the latter -- checking if a list is sorted: need to compare element i to element i+1\n",
    "\n",
    "### The `index()` function is a great way to combine these options. \n",
    "\n",
    "### `index(<elt>, <begin>,<end>` returns the index where `<elt>` is found *FIRST*\n"
   ]
  },
  {
   "cell_type": "code",
   "execution_count": null,
   "metadata": {},
   "outputs": [],
   "source": [
    "# EXAMPLE 13a: Is this list sorted?\n",
    "\n",
    "my_list = [4, 8, 12, 13, 19, 24, 28, 26, 30, 32, 40, 42]\n",
    "\n",
    "# Let's check if this list is sorted, but comparing each element to its succesor.\n",
    "is_sorted = True\n",
    "\n",
    "for i in range(len(my_list) - 1):\n",
    "    if my_list[i] > my_list[i+1]:\n",
    "        print(i, my_list[i], my_list[i+1], '!!!')\n",
    "        is_sorted = False\n",
    "        break\n",
    "        \n",
    "if is_sorted:\n",
    "    print('It\\'s sorted!')\n",
    "else:\n",
    "    print('Not sorted!')    "
   ]
  },
  {
   "cell_type": "markdown",
   "metadata": {},
   "source": [
    "<br><br><br><br><br><br><br><br><br><br>\n",
    "\n",
    "# 14. Nested Loops\n",
    "\n",
    "#### * We can put loops *inside* loops! Oy vey.\n",
    "\n",
    "#### * Don't panic!  \n",
    "\n",
    "#### * To understand any loop: just execute the block.  \n",
    "\n",
    "#### * When you get to the end of the block, go back to the beginning, and execute the block again if appropriate.\n"
   ]
  },
  {
   "cell_type": "code",
   "execution_count": null,
   "metadata": {},
   "outputs": [],
   "source": [
    "# EXAMPLE 14a: Nested loops\n",
    "# Let's see what this one does.\n",
    "\n",
    "\"\"\"\n",
    "for i in range(5):\n",
    "    print(i, '!!', end = ' ')\n",
    "    for j in range(3):\n",
    "        print(i + j, end = ' ')\n",
    "    print()\n"
   ]
  },
  {
   "cell_type": "markdown",
   "metadata": {},
   "source": [
    "<br><br><br><br><br>\n",
    "<br><br><br><br><br>\n",
    "\n",
    "#### * What's happened?\n",
    "\n",
    "#### * First, `i` is `0`, and this executes:"
   ]
  },
  {
   "cell_type": "code",
   "execution_count": null,
   "metadata": {},
   "outputs": [],
   "source": [
    "print(0, '!!', end = ' ')\n",
    "for j in range(3):\n",
    "    print(0 + j, end = ' ')\n",
    "print()"
   ]
  },
  {
   "cell_type": "markdown",
   "metadata": {},
   "source": [
    "#### * Then `i` is `1` and, this executes:"
   ]
  },
  {
   "cell_type": "code",
   "execution_count": null,
   "metadata": {},
   "outputs": [],
   "source": [
    "print(1, '!!', end = ' ')\n",
    "for j in range(3):\n",
    "    print(1 + j, end = ' ')\n",
    "print()"
   ]
  },
  {
   "cell_type": "markdown",
   "metadata": {},
   "source": [
    "#### * ***Note that the inner `for` loop runs again, with `j` beginning back at `0`!***\n",
    "\n",
    "#### * And so on.\n",
    "\n",
    "<br><br><br><br><br>\n",
    "<br><br><br><br><br>\n",
    "\n",
    "# 15. The Multiplication Table\n",
    "\n",
    "#### * Why do we want such monstrosities? \n",
    "\n",
    "#### * Loops: stage 1, stage 2, stage 3, etc., where all stages are very similar.\n",
    "\n",
    "#### * **Nested** loops are for when *each stage itself involves repetition*.\n",
    "\n",
    "<br><br><br><br><br>\n",
    "<br><br><br><br><br>\n",
    "\n",
    "\n",
    "#### * Example: multiplication table\n",
    "\n",
    "    1    2    3    4    5    6    7    8    9\n",
    "    2    4    6    8   10   12   14   16   18\n",
    "    3    6    9   12   15   18   21   24   27\n",
    "    4    8   12   16   20   24   28   32   36\n",
    "    5   10   15   20   25   30   35   40   45\n",
    "    6   12   18   24   30   36   42   48   54\n",
    "    7   14   21   28   35   42   49   56   63\n",
    "    8   16   24   32   40   48   56   64   72\n",
    "    9   18   27   36   45   54   63   72   81\n",
    "\n",
    "#### * Broad sketch: \n",
    "\n",
    "Step 1: Print Row 1 (details to be filled in) <br>\n",
    "Step 2: Print Row 2 (ditto) <br>\n",
    "... <br>\n",
    "Step 9: Print Row 9\n",
    "\n",
    "#### * Pseudocode:"
   ]
  },
  {
   "cell_type": "code",
   "execution_count": null,
   "metadata": {},
   "outputs": [],
   "source": [
    "for r in range(1,10):\n",
    "    PRINT ROW r    # Obviously, this line isn't real code, but it will be replaced by real code."
   ]
  },
  {
   "cell_type": "markdown",
   "metadata": {},
   "source": [
    "\n",
    "<br><br><br><br><br>\n",
    "<br><br><br><br><br>\n",
    "\n",
    "#### * PRINT ROW 1:\n",
    "`for x in range(1,10):`<br>\n",
    "&nbsp;&nbsp;&nbsp;&nbsp;`   print(x, end = ' ')` <br>\n",
    "`print() # Don't forget the newline!`\n",
    "\n",
    "#### * PRINT ROW 2:\n",
    "`for x in range(1,10):`<br>\n",
    "&nbsp;&nbsp;&nbsp;&nbsp;`   print(2*x, end = ' ')`<br>\n",
    "`print()`\n",
    "\n",
    "#### * PRINT ROW 7:\n",
    "`for x in range(1,10):`<br>\n",
    "&nbsp;&nbsp;&nbsp;&nbsp;`   print(7*x, end = ' ')`<br>\n",
    "`print()`\n",
    "\n",
    "#### * Now, the question I *really* want to answer.  How do I `PRINT ROW r`?\n",
    "\n",
    "`for x in range(1,10):`<br>\n",
    "&nbsp;&nbsp;&nbsp;&nbsp;`   print(r*x, end = ' ')`<br>\n",
    "`print()`"
   ]
  },
  {
   "cell_type": "code",
   "execution_count": null,
   "metadata": {},
   "outputs": [],
   "source": [
    "# EXAMPLE 15a: Multiplication Table\n",
    "\n",
    "#\n",
    "# CODE???\n",
    "#"
   ]
  },
  {
   "cell_type": "markdown",
   "metadata": {},
   "source": [
    "<br><br><br><br><br>\n",
    "<br><br><br><br><br>\n",
    "\n",
    "\n",
    "# 16. The Star Triangle\n",
    "\n",
    "#### * Classic exercise: print\n",
    "`*` <br>\n",
    "`**` <br>\n",
    "`***` <br>\n",
    "`****` <br>\n",
    "`*****` <br>\n",
    "`******` <br>\n",
    "`*******` <br>\n",
    "`********` <br>\n",
    "`*********` <br>\n",
    "`**********` <br>\n",
    "`***********` <br>\n",
    "\n",
    "#### The Catch: only print statements you are allowed to use are\n",
    "\n",
    "`print('*', end = '')` (which prints a single star, and nothing else)\n",
    "\n",
    "`print(' ', end = '')` (which prints a single space, and nothing else)\n",
    "\n",
    "and `print()` (which prints a newline).\n",
    "\n",
    "#### * No string multiplication, no f-strings, etc. \n",
    "\n",
    "#### * Pseudocode:\n"
   ]
  },
  {
   "cell_type": "code",
   "execution_count": null,
   "metadata": {},
   "outputs": [],
   "source": [
    "for r in range(1,13):\n",
    "    PRINT ROW r"
   ]
  },
  {
   "cell_type": "markdown",
   "metadata": {},
   "source": [
    "<br><br><br><br><br>\n",
    "<br><br><br><br><br>\n",
    "\n"
   ]
  },
  {
   "cell_type": "code",
   "execution_count": null,
   "metadata": {},
   "outputs": [],
   "source": [
    "# EXAMPLE 16a: Star Triangle, with no string multiplication\n",
    "\n",
    "for r in range(1,13):\n",
    "    \n",
    "    \n",
    "    \n",
    "    \n",
    "    "
   ]
  },
  {
   "cell_type": "markdown",
   "metadata": {},
   "source": [
    "<br><br><br><br><br>\n",
    "<br><br><br><br><br>\n",
    "\n",
    "# The Star Pyramid\n",
    "\n",
    "#### * Now, try the 12-layer star Pyramid shown below!\n",
    "\n",
    "#### * Again, no \"cheating\": only use \n",
    "\n",
    "`print('*', end = '')`\n",
    "\n",
    "`print(' ', end = '')`\n",
    "\n",
    "`print()`.\n",
    "\n"
   ]
  },
  {
   "cell_type": "code",
   "execution_count": null,
   "metadata": {},
   "outputs": [],
   "source": [
    "           *\n",
    "          ***\n",
    "         *****\n",
    "        *******\n",
    "       *********\n",
    "      ***********\n",
    "     *************\n",
    "    ***************\n",
    "   *****************\n",
    "  *******************\n",
    " *********************\n",
    "***********************\n",
    "\n",
    "# Ignore the coloring.  \n"
   ]
  },
  {
   "cell_type": "code",
   "execution_count": null,
   "metadata": {},
   "outputs": [],
   "source": [
    "# EXAMPLE 17a: Star Pyramid, without string multiplication.\n",
    "\n",
    "for r in range(1,13):\n",
    "    "
   ]
  },
  {
   "cell_type": "markdown",
   "metadata": {},
   "source": [
    "\n",
    "<br><br><br><br><br><br><br><br><br><br>\n",
    "\n",
    "# 17. List Comprehensions\n",
    "\n",
    "### * An amazing tool for constructing lists quickly."
   ]
  },
  {
   "cell_type": "code",
   "execution_count": null,
   "metadata": {
    "collapsed": true,
    "jupyter": {
     "outputs_hidden": true
    }
   },
   "outputs": [],
   "source": [
    "# EXAMPLE 6a: List comprehensions\n",
    "\n",
    "numbers = input('Enter a list of numbers on one line: '')\n",
    "# This of course gives a big string.  Let's say you want to turn this string \n",
    "# into a list of floats. We know how to do that:\n",
    "\n",
    "list_1 = []\n",
    "for x in numbers.split():\n",
    "    list_1.append(float(x))\n",
    "    \n",
    "# Here's an alternate way to write this code in one line:\n",
    "# a list comprehension!\n",
    "list_2 = [float(x) for x in numbers.split()]\n",
    "\n",
    "print(list_1)\n",
    "print(list_2)\n",
    "\n"
   ]
  },
  {
   "cell_type": "markdown",
   "metadata": {},
   "source": [
    "<br><br><br><br><br><br><br><br><br><br>\n",
    "\n",
    "### * Syntax for a list comprehension is:"
   ]
  },
  {
   "cell_type": "code",
   "execution_count": null,
   "metadata": {},
   "outputs": [],
   "source": [
    "LIST COMPREHENSION SYNTAX:\n",
    "    \n",
    "<list name> = [<operation on item> for <item> in <list>]"
   ]
  },
  {
   "cell_type": "markdown",
   "metadata": {},
   "source": [
    "### * This creates a list, where each value comes from performing the indicated operation on each element in `<list>`. \n",
    "\n",
    "### * How can we create a new list which is equal to some old list with each element squared?"
   ]
  },
  {
   "cell_type": "code",
   "execution_count": null,
   "metadata": {},
   "outputs": [],
   "source": [
    "# EXAMPLE 6b: Square the list\n",
    "\n",
    "old = [5, 3, 8, 20, 17, 20, 64]\n",
    "new = [x**2 for x in old]\n",
    "print(new)\n",
    "\n",
    "#\n",
    "# And let's say you wanted to find the sum of the squares of elements in old.  \n",
    "# Can we do THAT in one line?\n",
    "#\n",
    "\n",
    "\n"
   ]
  },
  {
   "cell_type": "markdown",
   "metadata": {},
   "source": [
    "<br><br><br><br><br><br><br><br><br><br>\n",
    "\n",
    "\n",
    "### * We can also use list comprehensions together with *filters*."
   ]
  },
  {
   "cell_type": "code",
   "execution_count": null,
   "metadata": {},
   "outputs": [],
   "source": [
    "LIST COMPREHENSION WITH FILTER SYNTAX:\n",
    "    \n",
    "<list name> = [<operation on item> for <item> in <list> if <condition on item>]"
   ]
  },
  {
   "cell_type": "markdown",
   "metadata": {},
   "source": [
    "### * Only adds elements for `<item>`s which satisfy the `<condition>`.  \n",
    "\n",
    "### * Let's get a list of squares of only odd elements."
   ]
  },
  {
   "cell_type": "code",
   "execution_count": null,
   "metadata": {},
   "outputs": [],
   "source": [
    "# EXAMPLE 7c: Square the odd elements in the list\n",
    "\n",
    "old = [5, 3, 8, 20, 17, 20, 64]\n",
    "new = ###??????\n",
    "print(new)"
   ]
  },
  {
   "cell_type": "markdown",
   "metadata": {},
   "source": [
    "<br><br><br><br><br>\n",
    "<br><br><br><br><br>\n",
    "\n",
    "# 18. Newton's Method\n",
    "\n",
    "#### * Problem: solve the equation $f(x) = 0$ for $x$.\n",
    "\n",
    "#### * Newton's method attacks this problem using tangent lines.\n",
    "\n",
    "#### * To explain idea, here's a warmup:\n",
    "\n",
    "#### if $g(x) = x^2$\n",
    "\n",
    "#### and $h(x) = 6x - 9$\n",
    "\n",
    "#### what are $g(x)$ and $h(x)$ when $x = 3$?  $x = 3.1$? $x = 3.01$?\n",
    "\n",
    "\n",
    "<br><br><br><br><br>\n",
    "<br><br><br><br><br>\n",
    "#### * Values are close because $y = 6x - 9$ is *linearization* of $g(x)$ at $x = 3$\n",
    "\n",
    "\n",
    "#### * So, at least when $x \\approx 3$,  $h(x)$ is a good replacement for $g(x)$.\n",
    "\n",
    "#### * Furthermore, the linear function $h(x)$ is easier to work with. \n",
    "\n",
    "#### * These two points form the idea behind Newton's method.\n",
    "\n",
    "\n",
    "\n",
    "<br><br><br><br><br>\n",
    "<br><br><br><br><br>\n",
    "\n",
    "#### * Let's try to solve $f(x) = 0$ where $f(x) = x^2 - 5$.\n",
    "\n",
    "![IMAGE NOT FOUND!!!!!!!](12.png)\n",
    "\n",
    "\n",
    "#### * Want to find $x$-intercept of this graph.\n",
    "\n",
    "#### * Principle: pick a random point $x_0$, linearize $f(x)$ at $x = x_0$, solve easier linearized equation\n",
    "\n",
    "#### * Call the solution to easier equation $x_1$, which is hopefully closer to a real solution.  Then, repeat!\n",
    "\n",
    "#### * Let's start with $x_0 = 1$:\n",
    "\n",
    "#### --- Tangent line to $y = x^2 - 5$ at that point is $y = 2x-6$\n",
    "\n",
    "#### --- Solve $2x - 6 = 0$; get $x = 3$, call that $x_1$.\n",
    "\n",
    "\n",
    "![IMAGE NOT FOUND!!!!!!!](22.png)\n",
    "\n",
    "<br><br><br><br><br>\n",
    "<br><br><br><br><br>\n",
    "\n",
    "#### * Next: do it all again, except this time, start with the better guess we just obtained, $x_1 = 3$.\n",
    "\n",
    "![IMAGE NOT FOUND!!!!!!!](32.png)\n",
    "\n",
    "<br><br><br><br><br>\n",
    "<br><br><br><br><br>\n",
    "\n",
    "#### * In general, to estimate a solution to $f(x) = 0$:\n",
    "\n",
    "#### --- Start with a guess $x_0$.\n",
    "\n",
    "#### --- Find equation of the tangent line at that point, which is $y - f(x_0) = f'(x_0)(x - x_0)$\n",
    "\n",
    "#### --- Find $x$-intercept of that line, which  $x = x_0 - \\frac{f(x_0)}{f'(x_0)}$, call this $x_1$\n",
    "\n",
    "#### --- Then repeat with $x_1$ to get $x_2$, then repeat with $x_2$ to get $x_3$, then repeat with $x_3$ to get $x_4$, etc.\n",
    "\n",
    "<br><br><br><br><br>\n",
    "<br><br><br><br><br>\n",
    "\n",
    "#### **Newton's Method**: to estimate a solution to $f(x) = 0$:\n",
    "\n",
    "#### --- Take a guess $x = x_0$.\n",
    "\n",
    "#### --- Then, calculate improved estimates $x_i$ using the formula $ x_{n+1} = x_n - \\frac{f(x_n)}{f'(x_n)}.$\n",
    "\n",
    "#### --- Keep repeating until you deem the value of $f(x_n)$ sufficiently close to $0$.\n",
    "\n",
    "#### * Newton's method is prone to failure if $x_i$ is a critical number; if there are multiple solutions; and in other situations.\n",
    "\n",
    "#### * But tends to work correctly and quickly in certain cases -- like with *convex* functions.\n",
    "\n",
    "<br><br><br><br><br>\n",
    "<br><br><br><br><br>\n"
   ]
  },
  {
   "cell_type": "markdown",
   "metadata": {},
   "source": [
    "# 19. `while` Loops\n",
    "\n",
    "\n",
    "#### * **Definite loops** repeat a fixed number of times: once for every element in a list or range, where list is fixed before you initiate the loop.\n",
    "\n",
    "#### * Some loops are **indefinite** -- you don't know how many iterations until right before loop ceases to repeat.\n",
    "\n"
   ]
  },
  {
   "cell_type": "code",
   "execution_count": null,
   "metadata": {},
   "outputs": [],
   "source": [
    "# EXAMPLE 19a: Password\n",
    "\n",
    "correct_password = 'Hamburger'\n",
    "\n",
    "user_guess = input('Guess the password: ')\n",
    "\n",
    "number_of_guesses = 1\n",
    "\n",
    "while user_guess != correct_password:\n",
    "    print('Wrong!')\n",
    "    user_guess = input('Guess again: ')\n",
    "    number_of_guesses += 1\n",
    "    \n",
    "print(f'Took you long enough: {number_of_guesses} guesses.')\n"
   ]
  },
  {
   "cell_type": "markdown",
   "metadata": {},
   "source": [
    "#### * For indefinite loops like this, `while` loops are useful.\n",
    "\n",
    "<br><br><br><br><br>\n",
    "<br><br><br><br><br>"
   ]
  },
  {
   "cell_type": "code",
   "execution_count": null,
   "metadata": {},
   "outputs": [],
   "source": [
    "WHILE LOOP SYNTAX:\n",
    "    \n",
    "\"... previous statements ...\"\n",
    "while <logical expression>:\n",
    "    <body, indented>\n",
    "\"... further statements, unindented...\"\n",
    "\n",
    "    \n"
   ]
  },
  {
   "cell_type": "markdown",
   "metadata": {},
   "source": [
    "\n",
    "#### * First, `<logical expression>` will evaluate.\n",
    "\n",
    "#### * If it evaluates to `True`, `<body>` will execute.\n",
    "\n",
    "#### * Once that is finished, `<logical expression>` will evaluate again...\n",
    "\n",
    "#### * ...and if it is `True`, `<body>` will execute again, with all pertinent variables using their latest values.\n",
    "\n",
    "#### * And so on until `<logical expression>` evaluates to `False`.  At this point, statements after the `<body>` are executed.\n",
    "\n",
    "#### * Flowchart:\n",
    "\n",
    "![IMAGE NOT FOUND!!!!!!!!!!](whileflow.png)\n",
    "\n",
    "<br><br><br><br><br>\n",
    "<br><br><br><br><br>"
   ]
  },
  {
   "cell_type": "code",
   "execution_count": null,
   "metadata": {},
   "outputs": [],
   "source": [
    "# EXAMPLE 19b: Walkthrough\n",
    "# Can you follow what is happening here?\n",
    "# Once you know, taking away the quotations at the front.\n",
    "\n",
    "\"\"\"\n",
    "x = 3\n",
    "y = 2\n",
    "\n",
    "\n",
    "while x <  3 * y:\n",
    "    x += y\n",
    "    if x < 10:\n",
    "        y = 6 - y\n",
    "    print(x,y)\n",
    "    \n",
    "print(y)\n"
   ]
  },
  {
   "cell_type": "markdown",
   "metadata": {},
   "source": [
    "<br><br><br><br><br>\n",
    "<br><br><br><br><br>\n",
    "\n",
    "# 20. Anything `for` Can Do, `while` Can Do ~~Better~~ Worse"
   ]
  },
  {
   "cell_type": "markdown",
   "metadata": {},
   "source": [
    "#### * `while` loops are more general than `for` loops.\n",
    "\n",
    "#### * Here's a problem that doesn't need a `while` loop, but we'll do it with one anyway."
   ]
  },
  {
   "cell_type": "code",
   "execution_count": null,
   "metadata": {},
   "outputs": [],
   "source": [
    "# EXAMPLE 20a: 99 Bottles\n",
    "# What does this code do?  What should it do?  Can you fix it, still using a while loop?\n",
    "\n",
    "var = 1\n",
    "\n",
    "while var <= 99:\n",
    "    print(f'{var} bottles of beer on the wall, {var} bottles of beer')\n",
    "    print(f'If one of those bottles should happen to fall, {var-1} bottles of beer on the wall')\n",
    "    var = var + 1"
   ]
  },
  {
   "cell_type": "markdown",
   "metadata": {},
   "source": [
    "<br><br><br><br><br>\n",
    "<br><br><br><br><br>\n",
    "\n",
    "#### * Every `for` can be converted to a `while`:\n",
    "\n",
    "#### --- Initialize `loop_count` to be `0` or `1`\n",
    "\n",
    "#### --- Write a line like `while loop_count < len(list_name):`, or `while loop_count <=  <number of times>:`\n",
    "\n",
    "#### --- At the end of the body of the loop, insert a line incrementing `loop_count`, like `loop_count += 1`\n",
    "\n",
    "#### DON'T DO THIS! (Unless I specifically asks you to.)\n",
    "\n",
    "<br><br><br><br><br>\n",
    "<br><br><br><br><br>\n",
    "\n",
    "#### * Example: compute 100 terms of $ e^3 + e^5 + e^7 + e^9 + e^{11} + \\ldots$\n"
   ]
  },
  {
   "cell_type": "code",
   "execution_count": null,
   "metadata": {},
   "outputs": [],
   "source": [
    "# EXAMPLE 7b: 100 terms of e^3 + e^5 + e^7 + e^9 + e^11 + ...\n",
    "import math\n",
    "\n",
    "# FOR loop:\n",
    "rs = 0\n",
    "for n in range(1,101):\n",
    "    rs += math.exp(2*n + 1)\n",
    "print(rs)\n",
    "\n",
    "# WHILE loop:\n",
    "rs = 0\n",
    "\n",
    "\n",
    "\n",
    "\n"
   ]
  }
 ],
 "metadata": {
  "kernelspec": {
   "display_name": "Python 3 (ipykernel)",
   "language": "python",
   "name": "python3"
  },
  "language_info": {
   "codemirror_mode": {
    "name": "ipython",
    "version": 3
   },
   "file_extension": ".py",
   "mimetype": "text/x-python",
   "name": "python",
   "nbconvert_exporter": "python",
   "pygments_lexer": "ipython3",
   "version": "3.11.5"
  },
  "name": "_merged_merged"
 },
 "nbformat": 4,
 "nbformat_minor": 4
}
