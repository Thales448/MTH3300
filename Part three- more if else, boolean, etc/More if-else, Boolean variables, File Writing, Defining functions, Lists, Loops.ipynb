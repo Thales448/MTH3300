{
 "cells": [
  {
   "cell_type": "markdown",
   "metadata": {},
   "source": [
    "# More if-else, Boolean variables, File writing, Defining functions, Lists, Loops\n",
    "\n",
    "### Bad Grades; Nested Ifs and Pseudocode; What Should I Do Today?; Using `bool` Variables; The Same Name Game; Print Debugging; File Objects; Writing to Files; A Quick Introduction to Programmer-Defined Functions; Let's Write a Couple; Local Variables and \"Laws\" of Functions; Lists; Mutability Operations; `str`s are Immutable; `.split()`; Calculator; `for` Loops; Words; Slicing"
   ]
  },
  {
   "cell_type": "markdown",
   "metadata": {},
   "source": [
    "\n",
    "\n",
    "# 1. Bad Grades, Three Ways\n",
    "\n",
    "### * I have here three versions of a program.  The program is a (slightly lazy) grade converter.  It asks for a score, and then prints out `A` for 90-100, `B` for in the 80's, a `C or lower` for less than 80.  All versions have flaws.  "
   ]
  },
  {
   "cell_type": "code",
   "execution_count": null,
   "metadata": {},
   "outputs": [],
   "source": [
    "# EXAMPLE 1a: Flawed Grades, Version 1\n",
    "\n",
    "score = float(input('Enter score: '))\n",
    "\n",
    "if score >= 90:\n",
    "    print('A')\n",
    "else score >= 80:\n",
    "    print('B')\n",
    "else:\n",
    "    print('C or lower')\n",
    "    "
   ]
  },
  {
   "cell_type": "markdown",
   "metadata": {},
   "source": [
    "<br><br><br><br><br><br><br><br><br><br>"
   ]
  },
  {
   "cell_type": "code",
   "execution_count": null,
   "metadata": {},
   "outputs": [],
   "source": [
    "# EXAMPLE 1b: Flawed Grades, Version 2\n",
    "\n",
    "score = float(input('Enter score: '))\n",
    "\n",
    "if score < 80:\n",
    "    print('C or lower')\n",
    "elif score >= 80:\n",
    "    print('B')\n",
    "elif score >= 90:\n",
    "    print('A')\n"
   ]
  },
  {
   "cell_type": "markdown",
   "metadata": {},
   "source": [
    "<br><br><br><br><br><br><br><br><br><br>"
   ]
  },
  {
   "cell_type": "code",
   "execution_count": null,
   "metadata": {},
   "outputs": [],
   "source": [
    "# EXAMPLE 1c: Flawed Grades, Version 3\n",
    "\n",
    "score = float(input('Enter score: '))\n",
    "\n",
    "if score >= 90:\n",
    "    print('A')\n",
    "if score >= 80:\n",
    "    print('B')\n",
    "else:\n",
    "    print('C or lower')"
   ]
  },
  {
   "cell_type": "markdown",
   "metadata": {},
   "source": [
    "\n",
    "<br><br><br><br><br><br><br><br><br><br>\n",
    "\n",
    "# 2. Nested If Statements and Pseudo-code\n",
    "\n",
    "### * You can put if (or if-else) statements inside one another.  They frequently come up when, in an if statement, the `True` branch is significantly different than the `False` branch.\n",
    "\n",
    "### * Example: 2 questions! The program we're about to write will allow the user to think of an animal; the program then asks questions, which the user answers, and based on that it tries to read your mind.  (It doesn't do a very good job, unless you happen to be thinking of a dog, cat, bird or fish -- in which case it works!) \n",
    "\n",
    "![IMAGE NOT FOUND!!!!!!!!!!!!!!](20questions.png)\n",
    "\n",
    "### * Translate from the top down.  Start by looking at the top question.  **Everything** coming out of the top \"yes\" arrow should be inside the `if` block; and **everything** coming out of the top \"no\" arrow should be inside the `else` block.  "
   ]
  },
  {
   "cell_type": "code",
   "execution_count": null,
   "metadata": {},
   "outputs": [],
   "source": [
    "# EXAMPLE 2a: 20 questions\n",
    "\n",
    "print('Think of an animal, then press Enter.')\n",
    "\n",
    "# Here is a trick to make your program have a dramatic pause.\n",
    "input()\n",
    "\n",
    "print('I\\'m going to try and guess it now.')\n",
    "\n",
    "input()\n",
    "\n",
    "first_ans = input('Is it a mammal? ')\n",
    "\n",
    "\n",
    "if first_ans == 'y':\n",
    "    second_ans = input('Does it bark? ')   #\n",
    "    if second_ans == 'y':                  #  These 5 lines are \n",
    "        print('It\\'s a dog!')              #  the 'if' block for the\n",
    "    else:                                  #  first 'if-else' statement.\n",
    "        print('It\\'s a cat!')              #\n",
    "else:\n",
    "    second_ans = input('Does it fly? ')    #\n",
    "    if second_ans == 'y':                  #  These 5 lines are \n",
    "        print('It\\'s a bird!')             #  the 'else' block for the\n",
    "    else:                                  #  first 'if-else' statement.\n",
    "        print('It\\'s a fish!')             #\n",
    "    "
   ]
  },
  {
   "cell_type": "markdown",
   "metadata": {},
   "source": [
    "\n",
    "<br><br><br><br><br><br><br><br><br><br>\n",
    "\n",
    "### * **_pseudo-code_** means the steps of the program written down in English, arranged to resemble source code, but without worrying about the details inherent in programming correct steps -- like proper variable names, data types, etc.  \n",
    "\n",
    "### * For this flowchart:"
   ]
  },
  {
   "cell_type": "code",
   "execution_count": null,
   "metadata": {},
   "outputs": [],
   "source": [
    "Ask if it is a mammal\n",
    "If it is a mammal:\n",
    "    Ask if it barks\n",
    "    If it barks:\n",
    "        It is a dog\n",
    "    Otherwise:\n",
    "        It is a cat\n",
    "Otherwise (if it is not a mammal):\n",
    "    Ask if it flies\n",
    "    If it flies:\n",
    "        It is a bird\n",
    "    Otherwise:\n",
    "        It is a fish"
   ]
  },
  {
   "cell_type": "markdown",
   "metadata": {},
   "source": [
    "<br><br><br><br><br><br><br><br><br><br>\n",
    "\n",
    "# 3. What Should I Do Today?\n",
    "\n",
    "### * Now, code this flow chart!\n",
    "\n",
    "![IMAGE NOT FOUND!!!!!!!!!!!!](weather.png)"
   ]
  },
  {
   "cell_type": "code",
   "execution_count": null,
   "metadata": {},
   "outputs": [],
   "source": [
    "# EXAMPLE 3a: Weather\n",
    "\n",
    "first_ans = input('Raining? ')\n",
    "if first_ans == 'y':\n",
    "    print('Read a book')\n"
   ]
  },
  {
   "cell_type": "markdown",
   "metadata": {},
   "source": [
    "\n",
    "<br><br><br><br><br><br><br><br><br><br>\n",
    "\n",
    "# 4. Using `bool` Variables\n",
    "\n",
    "### * Suppose you want to check that three sides of a triangle, `a`, `b` and `c`, are entered in descending order, are all greater than 0, and satisfy the triangle inequality (that the sum of any two sides is always greater than the third)?\n",
    "\n",
    "### * One way to code this:"
   ]
  },
  {
   "cell_type": "code",
   "execution_count": null,
   "metadata": {},
   "outputs": [],
   "source": [
    "if (a >= b) and (b >= c) and (a > 0) and (b > 0) and (c > 0) and (a + b > c) and (a + c > b) and (b + c > a):\n",
    "    # Solve triangle\n",
    "else:\n",
    "    # Print error message\n",
    "# (Let's ignore the fact that for mathematical reasons, there's some redundancy in the above.)"
   ]
  },
  {
   "cell_type": "markdown",
   "metadata": {},
   "source": [
    "\n",
    "<br><br><br><br><br><br><br><br><br><br>\n",
    "\n",
    "### * Here's an alternative, more digestible way to deal with this statement, using `bool` variables (or *flags*). "
   ]
  },
  {
   "cell_type": "code",
   "execution_count": null,
   "metadata": {},
   "outputs": [],
   "source": [
    "# EXAMPLE 4a: Using bools\n",
    "\n",
    "a = 7\n",
    "b = 8\n",
    "c = 1000\n",
    "\n",
    "in_order = (a >= b) and (b >= c)\n",
    "all_positive = (a > 0) and (b > 0) and (c > 0)\n",
    "satisfies_triangle_ineq = (a + b > c) and (a + c > b) and (b + c > a)\n",
    "\n",
    "if in_order and all_positive and satisfies_triangle_ineq:\n",
    "    print('Solving triangle...(not really, laziness)')\n",
    "else:\n",
    "    if not in_order:\n",
    "        print('Out of order')\n",
    "    if not all_positive:\n",
    "        print('Non-positive side entered')\n",
    "    if not satisfies_triangle_ineq:\n",
    "        print('Your sides don\\'t satisfy the triangle inequality')\n",
    "        \n",
    "# PS Why did I NOT use elif here?"
   ]
  },
  {
   "cell_type": "markdown",
   "metadata": {},
   "source": [
    "\n",
    "### * When you see an `if` statement without `==`'s or `>`'s or the like, *don't freak out -- evaluate*!  Evaluate the whole logical expression, like before.  If the expression evaluates to `True`, then the statement prints; if it evaluates to `False`, then the statement doesn't print.\n",
    "\n",
    "### * Benefit of *not* using `elif` in the above example: with `elif`, only one of the error messages can be printed.  Using an `else` with three `if`s, you can print out all relevant errors!"
   ]
  },
  {
   "cell_type": "markdown",
   "metadata": {},
   "source": [
    "\n",
    "<br><br><br><br><br><br><br><br><br><br>\n",
    "# 5. The Same Name Game \n",
    "\n",
    "### * The next program is meant to allow the user to enter 4 names.  At the end, the program should answer the question: \n",
    "\n",
    "*Did the user ever enter the same name twice in a row?* \n",
    "\n",
    "### (If a name was entered three times in a row, or two different names were each entered twice in a row, we'll still answer \"yes\".)  \n",
    "\n",
    "### * Since we'll need the answer to a yes or no question at the end, we'll use a `bool` variable to store the answer.  (We may need to debug a little at the end.)"
   ]
  },
  {
   "cell_type": "code",
   "execution_count": null,
   "metadata": {},
   "outputs": [],
   "source": [
    "# EXAMPLE 5a: Same Name Twice In A Row \n",
    "# We may need to fix a couple of things.\n",
    "\n",
    "# repeat_yet will contain the answer to the question: 'have two identical names been entered consecutively yet?'\n",
    "# What should repeat_yet be initialized to?\n",
    "repeat_yet =\n",
    "\n",
    "name1 = input('First name: ')\n",
    "name2 = input('Second name: ')\n",
    "\n",
    "if name1 == name2:\n",
    "    repeat_yet = True\n",
    "else:\n",
    "    repeat_yet = False\n",
    "    \n",
    "name3 = input('Third name: ')\n",
    "\n",
    "if name2 == name3:\n",
    "    repeat_yet = True\n",
    "else:\n",
    "    repeat_yet = False\n",
    "\n",
    "name4 = input('Fourth name: ')\n",
    "\n",
    "if name3 == name4:\n",
    "    repeat_yet = True\n",
    "else:\n",
    "    repeat_yet = False\n",
    "\n",
    "    \n",
    "if repeat_yet:\n",
    "    print('There were two consecutive entries that were the same.')\n",
    "else:\n",
    "    print('No consecutive repeats.')"
   ]
  },
  {
   "cell_type": "markdown",
   "metadata": {},
   "source": [
    "\n",
    "<br><br><br><br><br><br><br><br><br><br>\n",
    "\n",
    "# 6. Print Debugging\n",
    "\n",
    "### * The code below is **meant** to do the following. It asks for two numbers from each of two players.  It then adds up each player's numbers, and outputs which player is the winner, using the following rules:\n",
    "\n",
    "*Any player with a sum > 21 is disqualified.  The winner is the player with the highest sum who is not disqualified.  If both players are disqualified, then no one wins. If both players have the same sum which is <= 21, then the players both win.*\n",
    "\n",
    "### * (So, this is a lot like the game of Blackjack, if you know what that is.) \n",
    "\n",
    "### * THERE'S A BUG! We'll use print statements to find it."
   ]
  },
  {
   "cell_type": "code",
   "execution_count": null,
   "metadata": {},
   "outputs": [],
   "source": [
    "# Example 6a: 'Blackjack' (kind of)\n",
    "\n",
    "p1_num1 = int(input('Enter Player 1\\'s first number: '))\n",
    "p1_num2 = int(input('Enter Player 1\\'s second number: '))\n",
    "p2_num1 = int(input('Enter Player 2\\'s first number: '))\n",
    "p2_num2 = int(input('Enter Player 2\\'s second number: '))\n",
    "\n",
    "# First, determine who has the higher sum\n",
    "if p1_num1 + p1_num2 > p2_num1 + p2_num2:\n",
    "    # Player 1 has the higher sum.\n",
    "    # If that sum is 21 or under, player 1 wins.\n",
    "    # If not, player 2 wins, unless player 2's sum is also over 21,\n",
    "    # in which case no one wins.\n",
    "    if p1_num1 + p1_num2 <= 21:\n",
    "        print('Player 1 wins.')\n",
    "    elif p2_num1 + p2_num2 <= 21:\n",
    "        print('Player 2 wins.')\n",
    "    else:\n",
    "        print('Both players disqualified.')\n",
    "        \n",
    "elif p2_num1 + p2_num2 > p1_num1 + p1_num2:\n",
    "    # Player 2 has the higher sum.\n",
    "    # If that sum is 21 or under, player 2 wins.\n",
    "    # If not, player 1 wins, unless player 1's sum is also over 21,\n",
    "    # in which case no one wins.\n",
    "    if p2_num1 + p2_num2 <= 21:\n",
    "        print('Player 2 wins.')\n",
    "    elif p1_num1 + p2_num1 <= 21:\n",
    "        print('Player 1 wins.')\n",
    "    else:\n",
    "        print('Both players disqualified.')\n",
    "        \n",
    "else:\n",
    "    # Both players have the same sum.  Both win if that sum is 21 or under\n",
    "    # and both are disqualified otherwise.\n",
    "    if p1_num1 + p1_num2 <= 21:\n",
    "        print('Both players win.')\n",
    "    else:\n",
    "        print('Both players disqualified.')"
   ]
  },
  {
   "cell_type": "markdown",
   "metadata": {},
   "source": [
    "### * Try putting in 10 and 2 for the first player, and 20 and 4 for the second player.  Player 1 should win!  That's not what happens, though: why?\n"
   ]
  },
  {
   "cell_type": "markdown",
   "metadata": {},
   "source": [
    "\n",
    "<br><br><br><br><br><br><br><br><br><br>\n",
    "\n",
    "# 7. File Objects\n",
    "\n",
    "### * Python provides a way to directly read from and write to files (e.g. Word files, Excel spreadsheets, PDFs, MP3s, JPEGs, web documents, etc.)\n",
    "\n",
    "### * Most of the types of files I just mentioned are a little difficult to read directly, since in addition to whatever text you see directly, there is also formatting data you don't see.  That's why we'll mostly use plain text files, which end with the extension `.txt`: for those files, what you see is mostly the same as the actual raw content of the file.  (You can open and edit these with Notepad in Windows; and with TextEdit on Macs -- you may need to go to the Format menu and select \"Make Plain Text\".)\n",
    "\n",
    "### * Today we'll focus on writing.\n",
    "\n",
    "<br><br><br><br><br><br><br><br><br><br>\n"
   ]
  },
  {
   "cell_type": "code",
   "execution_count": null,
   "metadata": {},
   "outputs": [],
   "source": [
    "CREATING AND CLOSING FILE OBJECTS SYNTAX\n",
    "\n",
    "  OPEN A FILE FOR WRITING:\n",
    "\n",
    "<fileobj var> = open('<actual file name>', 'w')\n",
    "\n",
    "  CLOSE A FILE:\n",
    "\n",
    "<fileobj var>.close()"
   ]
  },
  {
   "cell_type": "markdown",
   "metadata": {},
   "source": [
    "### * A file object is a variable which is associated to a file.  \n",
    "\n",
    "### * When you `open()` a file in writing mode (`'w'`), you will be writing over its contents, so be careful! (If no file exists with the given name, one will be created.) \n",
    "\n",
    "### * The file name you supply needs to including the extension. By default, the file will be written into the same folder as your Python script. \n",
    "\n",
    "### * Be sure to close any files you open when you are done!"
   ]
  },
  {
   "cell_type": "code",
   "execution_count": null,
   "metadata": {},
   "outputs": [],
   "source": [
    "# EXAMPLE 7a: Creating file objects\n",
    "\n",
    "# Create a blank file\n",
    "blanky_blank = open('blanky.txt', 'w')\n",
    "\n",
    "# blanky_blank is a file object variable.  It's a bit of a strange variable:\n",
    "# if you print out its value, look at what you get.\n",
    "\n",
    "print(blanky_blank)\n",
    "\n",
    "blanky_blank.close() # Always close file objects!"
   ]
  },
  {
   "cell_type": "markdown",
   "metadata": {},
   "source": [
    "<br><br><br><br><br><br><br><br><br><br>\n",
    "\n",
    "\n",
    "# 8. Writing to File Objects"
   ]
  },
  {
   "cell_type": "code",
   "execution_count": null,
   "metadata": {},
   "outputs": [],
   "source": [
    "WRITE A STRING INTO A (WRITING-MODE) FILE:\n",
    "    \n",
    "<fileobj var>.write(<string>)\n",
    "                       ^\n",
    "                       |\n",
    "                       |\n",
    "                    SINGLE STRING VALUE   (no ints! no floats! no commas!)"
   ]
  },
  {
   "cell_type": "markdown",
   "metadata": {},
   "source": [
    "### * When you `.write()` a string to a file object, that string will be inserted into the file.  You can write several strings to a file; they will be placed in the file one after another, without spaces in between. \n",
    "\n",
    "### * Note: you don't have to write an `=` sign with `.write()`.  The `.write()` at the end of a file object variable is an instruction in and of itself!\n",
    "\n"
   ]
  },
  {
   "cell_type": "code",
   "execution_count": null,
   "metadata": {},
   "outputs": [],
   "source": [
    "# EXAMPLE 8a: Writing and file objects\n",
    "\n",
    "stf = open('stuff.txt', 'w')\n",
    "\n",
    "first = 'Start'\n",
    "stf.write(first)\n",
    "\n",
    "stf.write('Notice where this goes.')\n",
    "\n",
    "also = 'If\\nyou\\nwant\\nnewlines\\nthis is how you get them.'\n",
    "stf.write(also)\n",
    "\n",
    "stf.close() # Don't forget to close!"
   ]
  },
  {
   "cell_type": "markdown",
   "metadata": {},
   "source": [
    "<br><br><br><br><br><br><br><br><br><br>\n",
    "\n",
    "### * Be aware that you can only place **single string values** into a `.write()` command.  It's not like print: you can't put commas, or numerical values.  \n",
    "\n",
    "### * The `str()` function can help with numerical values: this function takes in an `int` or `float` value, and returns the `str` equivalent of it."
   ]
  },
  {
   "cell_type": "code",
   "execution_count": null,
   "metadata": {},
   "outputs": [],
   "source": [
    "# EXAMPLE 8b: Do's and don'ts\n",
    "\n",
    "another = open('more.txt', 'w')\n",
    "\n",
    "another.write('This' , 'does', 'not', 'work')\n",
    "another.write('But' + 'this' + 'does')\n",
    "\n",
    "\n",
    "x = 17\n",
    "another.write(x)        # Doesn't work!\n",
    "another.write( str(x) ) # This does!\n",
    "\n",
    "another.close()"
   ]
  },
  {
   "cell_type": "markdown",
   "metadata": {},
   "source": [
    "<br><br><br><br><br><br><br><br><br><br>\n",
    "\n",
    "### * Let's write a nametag factory.  The user inputs their name, and the program will then write `Hello my name is <blank>.` into a file named `nametag.txt`."
   ]
  },
  {
   "cell_type": "code",
   "execution_count": 1,
   "metadata": {},
   "outputs": [
    {
     "data": {
      "text/plain": [
       "<function TextIOWrapper.close()>"
      ]
     },
     "execution_count": 1,
     "metadata": {},
     "output_type": "execute_result"
    }
   ],
   "source": [
    "# EXAMPLE 8c: Nametag factory\n",
    "\n",
    "n = input('Enter name: ')\n",
    "nametag = open('nametag.txt', 'w')\n",
    "nametag.write(f'Hello my name is:\\n {n}')\n",
    "nametag.close\n",
    "#\n",
    "# NAMETAGS!\n",
    "#"
   ]
  },
  {
   "cell_type": "markdown",
   "metadata": {},
   "source": [
    "\n",
    "<br><br><br><br><br><br><br><br><br><br>\n",
    "\n",
    "\n",
    "# 9. A Quick Introduction to Programmer-Defined Functions\n",
    "\n",
    "### * We have used a lot of functions in Python: `len()`, `math.exp()`, `random.randrange()`, etc. \n",
    "\n",
    "### * As a programmer, you can write your own functions, too!\n",
    "\n",
    "### * **Functions can help you break down your problems into smaller, more manageable parts** and **minimize repetition of code**.  This is called *modular programming*.  \n"
   ]
  },
  {
   "cell_type": "code",
   "execution_count": 4,
   "metadata": {},
   "outputs": [
    {
     "data": {
      "text/plain": [
       "89"
      ]
     },
     "execution_count": 4,
     "metadata": {},
     "output_type": "execute_result"
    }
   ],
   "source": [
    "# EXAMPLE 9a: A programmer-defined function\n",
    "# This function computes sums of squares of numbers.\n",
    "# Presumably, this is something that we may find ourselves doing a lot.\n",
    "x=3\n",
    "y=4\n",
    "z=8\n",
    "def sum_of_squares(x, y, z):\n",
    "    sos = x**2 + y**2 + z**2\n",
    "    return sos\n",
    "sum_of_squares(x,y,z)"
   ]
  },
  {
   "cell_type": "markdown",
   "metadata": {},
   "source": [
    "### * Run that code.  It doesn't appear to really do much!  \n",
    "\n",
    "### * It defines a new function.  The keyword `def` denotes that we're defining a function; `sum_of_squares` is the *name* of the function; `x`, `y` and `z` represent the *inputs* to the function; and the word `return` denotes that the *output* of the function is the value called `sos`.\n",
    "\n",
    "\n",
    "<br><br><br><br><br><br><br><br><br><br>\n",
    "\n",
    "\n",
    "\n",
    "### * Now, let's **use** the function."
   ]
  },
  {
   "cell_type": "code",
   "execution_count": 6,
   "metadata": {},
   "outputs": [
    {
     "ename": "TypeError",
     "evalue": "sum_of_squares() takes 3 positional arguments but 4 were given",
     "output_type": "error",
     "traceback": [
      "\u001b[0;31m---------------------------------------------------------------------------\u001b[0m",
      "\u001b[0;31mTypeError\u001b[0m                                 Traceback (most recent call last)",
      "Cell \u001b[0;32mIn[6], line 5\u001b[0m\n\u001b[1;32m      1\u001b[0m \u001b[38;5;66;03m# EXAMPLE 9b: Using that function\u001b[39;00m\n\u001b[1;32m      2\u001b[0m \n\u001b[1;32m      3\u001b[0m \u001b[38;5;66;03m# MAKE SURE YOU'VE RUN EXAMPLE 6a !!!!!!!!!!!\u001b[39;00m\n\u001b[0;32m----> 5\u001b[0m a \u001b[38;5;241m=\u001b[39m \u001b[43msum_of_squares\u001b[49m\u001b[43m(\u001b[49m\u001b[38;5;241;43m1\u001b[39;49m\u001b[43m,\u001b[49m\u001b[38;5;241;43m2\u001b[39;49m\u001b[43m,\u001b[49m\u001b[38;5;241;43m2\u001b[39;49m\u001b[43m,\u001b[49m\u001b[38;5;241;43m4\u001b[39;49m\u001b[43m)\u001b[49m\n\u001b[1;32m      6\u001b[0m b \u001b[38;5;241m=\u001b[39m sum_of_squares(\u001b[38;5;241m4\u001b[39m,\u001b[38;5;241m0\u001b[39m,\u001b[38;5;241m3\u001b[39m)     \u001b[38;5;66;03m# Write the function once, \u001b[39;00m\n\u001b[1;32m      7\u001b[0m c \u001b[38;5;241m=\u001b[39m sum_of_squares(\u001b[38;5;241m1\u001b[39m,\u001b[38;5;241m2\u001b[39m,\u001b[38;5;241m5\u001b[39m)     \u001b[38;5;66;03m# use it repeatedly!\u001b[39;00m\n",
      "\u001b[0;31mTypeError\u001b[0m: sum_of_squares() takes 3 positional arguments but 4 were given"
     ]
    }
   ],
   "source": [
    "# EXAMPLE 9b: Using that function\n",
    "\n",
    "# MAKE SURE YOU'VE RUN EXAMPLE 6a !!!!!!!!!!!\n",
    "\n",
    "a = sum_of_squares(1,2,2,4)\n",
    "b = sum_of_squares(4,0,3)     # Write the function once, \n",
    "c = sum_of_squares(1,2,5)     # use it repeatedly!\n",
    "print(a, b, c)\n",
    "\n",
    "# These three lines do nothing, all for the same reason...\n",
    "3 + 5                  \n",
    "len('Hello')           \n",
    "sum_of_squares(1,1,1)  \n",
    "# the interpreter evaluates them, but does nothing with the values.\n",
    "\n",
    "d = sum_of_squares(c / 10, b - 4, 0) # Any expression can be used\n",
    "print(d)                             # as an argument!"
   ]
  },
  {
   "cell_type": "code",
   "execution_count": null,
   "metadata": {},
   "outputs": [],
   "source": [
    "BASIC FUNCTION DEFINITION SYNTAX:\n",
    "    \n",
    "def <function name>(<formal parameters>):\n",
    "    <body>\n",
    "    return <output value>"
   ]
  },
  {
   "cell_type": "markdown",
   "metadata": {},
   "source": [
    "### * *formal parameters* refers to names used for the inputs when you define the function.  So in the program from above, the parameters were `x`, `y` and `z`, and the output value was called `sos`.\n",
    "\n",
    "<br><br><br><br><br><br><br><br><br><br>\n",
    "\n",
    "\n",
    "### * That's the definition.  Further down, you may *call* (i.e., use) this function, which would look something like\n",
    "\n",
    "`<function name>(<actual parameters>)`\n",
    "\n",
    "### * In our program, the calls looked like `sum_of_squares(var1, var2, var3)`.  When Python encounters `sum_of_squares(var1, var2, var3)`, here is what happens:\n",
    "\n",
    "### --- The parameters of the function will be matched with the actual parameters (or *arguments*).  This means that `x` will be assigned the value of `var1`, `y` will be assigned the value of `var2`, and `z` will be assigned the value of `var3`. (First gets matched with first, second gets matched with second -- order matters here.)\n",
    "\n",
    "\n",
    "### --- The body of the function will execute, using these values.\n",
    "\n",
    "### --- The line `return sos` ends the function's execution, and the value of `sum_of_squares(var1, var2, var3)` will be whatever `sos` is.\n",
    "\n",
    "### --- That value then gets stored to a variable, or printed, or ignored, depending on what you code does with `sum_of_squares(var1, var2, var3)`, and the program continues."
   ]
  },
  {
   "cell_type": "markdown",
   "metadata": {},
   "source": [
    "\n",
    "<br><br><br><br><br><br><br><br><br><br>\n",
    "\n",
    "\n",
    "# 10. Let's Write a Couple of Functions\n",
    "\n",
    "### * Let's create `my_max()`, which receives two arguments, and which returns the value of the larger one. "
   ]
  },
  {
   "cell_type": "code",
   "execution_count": null,
   "metadata": {},
   "outputs": [],
   "source": [
    "# EXAMPLE 10a: my_max\n",
    "\n",
    "#\n",
    "# Let's write my_max\n",
    "#\n",
    "\n",
    "x = int(input('First number: '))\n",
    "y = int(input('Second number: '))\n",
    "\n",
    "#\n",
    "# Let's use my_max to assign z the max of x and y.\n",
    "#\n",
    "\n",
    "print('The max is', z)"
   ]
  },
  {
   "cell_type": "markdown",
   "metadata": {},
   "source": [
    "\n",
    "<br><br><br><br><br><br><br><br><br><br>\n",
    "\n",
    "### * Try writing a function called `my_abs`, which should receive one numerical argument, and return the absolute value of that argument."
   ]
  },
  {
   "cell_type": "code",
   "execution_count": null,
   "metadata": {},
   "outputs": [],
   "source": [
    "# EXAMPLE 10b: my_abs\n",
    "\n",
    "#\n",
    "# Write my_abs()\n",
    "# \n",
    "\n",
    "print('If this isn\\'t 2, your function has a problem :', my_abs(2))\n",
    "print('If this isn\\'t 4, your function has a problem :', my_abs(-4))\n",
    "print('If this isn\\'t 0, your function has a problem :', my_abs(0))"
   ]
  },
  {
   "cell_type": "markdown",
   "metadata": {},
   "source": [
    "\n",
    "<br><br><br><br><br><br><br><br><br><br>\n",
    "\n",
    "# 11. Local Variables and \"Laws\" of Functions\n",
    "\n",
    "### * A *local variable* is a variable that is either a formal parameter of the function, or one which is **created** in the body of a function.  \n",
    "\n",
    "### * Beginners sometimes misuse functions in ways that either *cause* confusion, or straight-up do not work.  \n",
    "\n",
    "### * Explaining exactly why certain things are bad ideas or illegal tends to eat up more time than I want to spend right now.  \n",
    "\n",
    "\n",
    "<br><br><br><br><br><br><br><br><br><br>\n",
    "\n",
    "\n",
    "### * To guide you in the right direction without having to explain myself, I hereby hand down to you: 3 \"Laws\" of Python functions\n",
    "\n",
    "### 1. The only variables you can use within the body of a function definition are local variables.\n",
    "### 2. Local variables may not appear outside of the function definition.\n",
    "### 3. `print()` never goes in a function body.\n",
    "\n",
    "### * (Actually, none of these are really laws at all -- but for now, I suggest you follow them.)\n",
    "\n",
    "\n",
    "<br><br><br><br><br><br><br><br><br><br>\n"
   ]
  },
  {
   "cell_type": "code",
   "execution_count": null,
   "metadata": {},
   "outputs": [],
   "source": [
    "# EXAMPLE 11a: Law 1 violation\n",
    "\n",
    "x = 20 # x is created here...\n",
    "\n",
    "def x_times_y(y):\n",
    "    x = x*y     # ...and so x is not local: violating Law 1\n",
    "    return x    \n",
    "\n",
    "print(x_times_y(10))\n",
    "# And whoops -- error!"
   ]
  },
  {
   "cell_type": "code",
   "execution_count": null,
   "metadata": {},
   "outputs": [],
   "source": [
    "# EXAMPLE 11b: Law 2 violation\n",
    "\n",
    "def fn(z):\n",
    "    new_guy = z + 1 # new_guy is local...\n",
    "    return new_guy\n",
    "\n",
    "x = fn(40)\n",
    "\n",
    "print(new_guy) # ...and so this is a Law 2 violation\n",
    "# And whoops -- error!"
   ]
  },
  {
   "cell_type": "code",
   "execution_count": null,
   "metadata": {},
   "outputs": [],
   "source": [
    "# EXAMPLE 11c: Law 3 violation\n",
    "\n",
    "def bad_max(x, y):\n",
    "    if x > y:\n",
    "        output = x\n",
    "    else:\n",
    "        output = y\n",
    "    print(output)  # Law 3 violation!!!\n",
    "    \n",
    "\n",
    "# At first this seems fine...mostly. \n",
    "print(bad_max(3,7))\n",
    "print(bad_max(5,-1))\n",
    "\n",
    "# Uh-oh, this doesn't work!\n",
    "x = bad_max(1,2) + bad_max(5,3)\n",
    "print(x)"
   ]
  },
  {
   "cell_type": "markdown",
   "metadata": {},
   "source": [
    "<br><br><br><br><br><br><br><br><br><br>\n",
    "\n",
    "# 12. Lists\n",
    "\n",
    "### * A **_list_** is a collection of values, arranged in an order.  The basic way to create a list is with the following syntax:\n"
   ]
  },
  {
   "cell_type": "code",
   "execution_count": null,
   "metadata": {},
   "outputs": [],
   "source": [
    "LIST SYNTAX:\n",
    "    \n",
    "<list name> = [<first value>, <second value>, <...and so on...>, <last value>]\n"
   ]
  },
  {
   "cell_type": "markdown",
   "metadata": {},
   "source": [
    "### * Note that a list is enclosed in square brackets `[` and `]`.  If you use regular parentheses, you're creating something else that may end up working for your purposes, but it is definitely not the same type of list that I'm talking about.\n",
    "\n",
    "### * The values can be of any types, and don't all have to be the same type.\n",
    "\n",
    "<br><br><br><br><br><br><br><br><br><br>"
   ]
  },
  {
   "cell_type": "code",
   "execution_count": null,
   "metadata": {},
   "outputs": [],
   "source": [
    "#EXAMPLE 12a: Lists\n",
    "\n",
    "x = [12, 'Hello', 13, 'Goodbye', True, 14]\n",
    "y = [5, 6, 7]\n",
    "\n",
    "print('type(x) =', type(x)) # This will print the name of the data type\n",
    "\n",
    "print('x[2] =', x[2])\n",
    "print('x[-1] =', x[-1])\n",
    "print('x[-2] =', x[-2])\n",
    "print('len(x) =', len(x))\n",
    "print('x + y =', x + y)\n",
    "print('y*3 =', y*3)\n",
    "print('x[626] =', x[626])"
   ]
  },
  {
   "cell_type": "markdown",
   "metadata": {},
   "source": [
    "### * As you can tell, we just illustrated several features of lists.\n",
    "\n",
    "### --- First, `list` is a new data type.  \n",
    "### --- Remember how you can index the characters of a `str` using `[ ]`?  You can do the same thing with `list`s.  And just like with `str`s, **zero-based indexing** is employed.\n",
    "### --- You can also do indexing based from the end: e.g., `x[-1]` is the last element of `x`, `x[-2]` is the second-to-last, etc.\n",
    "### --- If you try to read an index that is longer than the length of the list, however, you will get a run-time error.\n",
    "### --- `len()` also works for lists.  \n",
    "### --- You can concatenate `list`s using `+`: this will produce a new `list`, which combines the two operands.\n",
    "### --- And you can multiply a `list` by an integer."
   ]
  },
  {
   "cell_type": "markdown",
   "metadata": {},
   "source": [
    "<br><br><br><br><br><br><br><br><br><br>\n",
    "\n",
    "# Slicing\n",
    "\n",
    "### * **_Slicing_** refers to taking a portion of a list (not necessarily just a single element).  \n",
    "\n",
    "### * You would write an expression that looks like, e.g., `x[2:6]`, which would create a new list, containing elements `x[2]`,`x[3]`, `x[4]`, `x[5]` -- but not `x[6]`.  (That took me a while to get used to -- the last index is *not* included, just the ones before.)  "
   ]
  },
  {
   "cell_type": "code",
   "execution_count": null,
   "metadata": {},
   "outputs": [],
   "source": [
    "#EXAMPLE 19a: Slicing\n",
    "\n",
    "my_list = ['AA', 'BB', 'CC', 'DD', 'EE', 'FF', 'GG']\n",
    "\n",
    "slice_1 = my_list[3:7]\n",
    "print('slice_1 =', slice_1)\n",
    "\n",
    "# If you leave out the part before the :, it assumes you're starting at the beginning; \n",
    "# if you leave out the part after the :, it assumes you're going until the end.\n",
    "print('my_list[:2] =', my_list[:2])\n",
    "print('my_list[6:] =', my_list[6:])\n",
    "\n",
    "\n",
    "print('my_list[100:102] = ', my_list[100:102]) # Interestingly, NOT an error.\n",
    "\n",
    "# You can also slice strings, by the way.\n",
    "big_string = 'abcdefghi'\n",
    "print(big_string[2:5])"
   ]
  },
  {
   "cell_type": "markdown",
   "metadata": {},
   "source": [
    "<br><br><br><br><br><br><br><br><br><br>\n",
    "\n",
    "# 13. Lists, Mutability and The Basic Mutation Operations\n",
    "\n",
    "### * A *reassignment* refers to when you take a previously defined variable, and use the assignment operator (`=`) to give it a new value.  Up until now, that was the only way we've had to change the value of a variable.\n",
    "\n",
    "### * Lists, however, can be changed in other ways than reassignment.  These are referred to as *mutations*: they typically leave the value partially intact, but partially changed. (A better definition will come later.)\n"
   ]
  },
  {
   "cell_type": "code",
   "execution_count": null,
   "metadata": {},
   "outputs": [],
   "source": [
    "# EXAMPLE 13a: Mutations\n",
    "\n",
    "my_list = ['I', 'can', 'change']\n",
    "\n",
    "# Plain-old-reassignment\n",
    "my_list = ['Entirely', 'new', 'list']\n",
    "\n",
    "# But here are three types of mutations:\n",
    "my_list[0] = 'Partially'   # Change one entry\n",
    "print(my_list)\n",
    "\n",
    "my_list.append('with a new entry at the end!')  # Add a new entry at the end\n",
    "print(my_list)\n",
    "\n",
    "my_list.insert(2, 'cool')\n",
    "print(my_list)"
   ]
  },
  {
   "cell_type": "markdown",
   "metadata": {},
   "source": [
    "<br><br><br><br><br><br><br><br><br><br>\n",
    "\n",
    "### * Three examples of mutations: \n",
    "\n",
    "### --- reassigning a single entry (by index)\n",
    "### --- `.append(<elt>)` puts `<elt>` at the end of a list.\n",
    "### --- `.insert(<pos>, <elt>)` puts `<elt>` into the list at position `<pos>` (with the element currently at that position moving back).\n",
    "\n",
    "### * Other examples include `.extend()`, `.remove()`, and `.pop()`.  Again, note that you don't write `=` signs with these \"dot\" functions.\n",
    "\n",
    "<br><br><br><br><br><br><br><br><br><br>\n",
    "\n",
    "### * One with different syntax: \n",
    "\n",
    "* `del <list name>[<pos>]` removes element `<pos>` from the list `<list name>`.\n",
    "* `<list name>.remove[<element>]` removes every occurance of `<element>` from the list `<list name>`\n"
   ]
  },
  {
   "cell_type": "code",
   "execution_count": null,
   "metadata": {},
   "outputs": [],
   "source": [
    "# EXAMPLE 13b: Delete\n",
    "\n",
    "x = ['a', 'b', 'x', 'c', 'd', 'x']\n",
    "\n",
    "# Let's remove the 'x's:\n"
   ]
  },
  {
   "cell_type": "markdown",
   "metadata": {},
   "source": [
    "<br><br><br><br><br><br><br><br><br><br>\n",
    "\n",
    "# 14. Warning: `str`s are Immutable!\n",
    "\n",
    "### * Strings and lists are much alike, but one big difference between them is that you cannot mutate a string.  \n",
    "\n",
    "### * You CAN *reassign* a string variable, but you CAN'T *mutate* one.  This means that you can't change PART of a string."
   ]
  },
  {
   "cell_type": "code",
   "execution_count": null,
   "metadata": {},
   "outputs": [],
   "source": [
    "# EXAMPLE 14a: You can't mutate a str\n",
    "\n",
    "x = 'String'\n",
    "\n",
    "# All of these attempt to keep the value of x mostly in tact,\n",
    "# while just changing part.  They're all illegal.\n",
    "x[1] = 'p'           \n",
    "x.append('y ding')   \n",
    "x.insert(2, 'a')     \n",
    "\n",
    "\n",
    "# However, these are ok:\n",
    "x = 'New string value' \n",
    "x = x + '!!!'\n",
    "# The last one is ok because it takes the value of x and the second string '!!!'\n",
    "# and then combines them to create an entirely new, third string."
   ]
  },
  {
   "cell_type": "markdown",
   "metadata": {},
   "source": [
    "<br><br><br><br><br><br><br><br><br><br>\n",
    "\n",
    "# 15. `.split()`\n",
    "\n",
    "### * A dot function which is *not* a mutation: if `str_var` is a `str` variable, then \n",
    "\n",
    "`str_var.split()` \n",
    "\n",
    "### is an expression which, when evaluated, returns a new list, whose entries are the consecutive runs of non-whitespace characters in `str_var`.  (\"Whitespace\" refers to spaces, tabs, and newlines.) \n",
    "\n",
    "### * More informally, `.split()` takes a string, and makes a list where each entry is an \"island\" of characters. \n"
   ]
  },
  {
   "cell_type": "code",
   "execution_count": null,
   "metadata": {},
   "outputs": [],
   "source": [
    "# EXAMPLE 15a: .split()\n",
    "\n",
    "a = '  An   archipelago   is...a   group of  islands!'\n",
    "print(a.split())\n",
    "\n",
    "b = 'Got\\nsome\\nnewlines'\n",
    "print(b.split())\n",
    "\n",
    "c = \"\"\"\n",
    "Big\n",
    "Multi\n",
    "Line\n",
    "\"\"\"\n",
    "print(c.split())"
   ]
  },
  {
   "cell_type": "markdown",
   "metadata": {},
   "source": [
    "<br><br><br><br><br><br><br><br><br><br>\n",
    "\n",
    "### * Keep the following two points in mind:\n",
    "\n",
    "### 1. You attach `.split()` to a STRING and it makes a LIST.\n",
    "### 2. Suppose that `x` is a string.  After evaluating `x.split()`, the variable `x` is STILL the same string -- you have to assign the value of `x.split()` to a variable to store the list."
   ]
  },
  {
   "cell_type": "code",
   "execution_count": null,
   "metadata": {},
   "outputs": [],
   "source": [
    "# EXAMPLE 15b: .split()\n",
    "\n",
    "x = 'One Two Three'\n",
    "x.split()    # Does nothing much\n",
    "print(x)\n",
    "\n",
    "y = x.split() # THIS does something\n",
    "print(y)\n"
   ]
  },
  {
   "cell_type": "markdown",
   "metadata": {},
   "source": [
    "<br><br><br><br><br><br><br><br><br><br>\n",
    "\n",
    "# 16. Calculator\n",
    "\n",
    "### * Let's write a program that reads a line like\n",
    "\n",
    "`12.3 - 3.4`\n",
    "\n",
    "### from user input, interprets it as an arithmetic expression, and the evaluates that expression.  \n",
    "\n",
    "\n",
    "### * **Not** as simple as it sounds, for one basic reason:\n",
    "\n",
    "*user input is always interpreted as a `str`, not as code!*\n",
    "\n",
    "### * When you enter `2 + 3`, it just sees a 5-character `str`: a `2` symbol, a space, a `+` symbol, a space, and a `3` symbol.   `int` and `float` only work for individual numbers.\n",
    "\n",
    "\n",
    "<br><br><br><br><br><br><br><br><br><br>\n",
    "\n",
    "\n",
    "### * Strategy:\n",
    "\n",
    "### --- Get input, as a `str`.\n",
    "### --- Second, break apart that `str` into a number, an operation symbol, and another number.\n",
    "### --- Check if the operation symbol is `'+'`, `'-'`, etc.\n",
    "### --- Once we have determined the operation symbol, evaluate a Python expression with the corresponding operation, and print the answer.\n"
   ]
  },
  {
   "cell_type": "code",
   "execution_count": null,
   "metadata": {},
   "outputs": [],
   "source": [
    "# EXAMPLE 16a: Calculator\n",
    "\n",
    "expression = input('Enter an expression: ')\n",
    "\n",
    "#\n",
    "# LET'S WRITE A CALCULATOR!\n",
    "#"
   ]
  },
  {
   "cell_type": "markdown",
   "metadata": {},
   "source": [
    "<br><br><br><br><br><br><br><br><br><br>\n",
    "\n",
    "\n",
    "# 17. `for` Loops\n",
    "\n",
    "### * It's time."
   ]
  },
  {
   "cell_type": "code",
   "execution_count": null,
   "metadata": {},
   "outputs": [],
   "source": [
    "# EXAMPLE 17a: 1 + 2 + 3 + 4 + ... + 1000000\n",
    "\n",
    "running_sum = 0\n",
    "for n in range(1, 10**6 + 1):\n",
    "    running_sum = running_sum + n\n",
    "print(running_sum)"
   ]
  },
  {
   "cell_type": "markdown",
   "metadata": {},
   "source": [
    "### * How do you get the computer to execute a million instructions with 4 lines of code?  With a **loop**.\n",
    "\n",
    "<br><br><br><br><br>\n",
    "<br><br><br><br><br>\n"
   ]
  },
  {
   "cell_type": "code",
   "execution_count": null,
   "metadata": {},
   "outputs": [],
   "source": [
    "BASIC FOR LOOP SYNTAX:\n",
    "\n",
    "\"... previous statements ...\"\n",
    "for <target var> in <list>:\n",
    "    <body, indented>\n",
    "    <some statements will likely involve <target var> >\n",
    "\"... further statements, unindented...\""
   ]
  },
  {
   "cell_type": "markdown",
   "metadata": {},
   "source": [
    "### * This does the following.\n",
    "\n",
    "### --- First, `<target var>` will be assigned the first value from the `<list>`.\n",
    "### --- Then, `<body>` will execute.\n",
    "### --- Once that is finished, `<target var>` will be assigned the second value from the `<list>`...\n",
    "### --- ...and `<body>` executes again, with `<target var>` assigned to the new value.\n",
    "### --- And so on until you've reached the end of the list.  At this point, statements after the `<body>` are executed.\n",
    "\n",
    "### * Once again, indenting is important!  The part of the code that gets repeated is everything after the `for` line, until you get to a non-indented line.\n",
    "\n",
    "<br><br><br><br><br>\n",
    "<br><br><br><br><br>\n",
    "\n",
    "\n",
    "\n",
    "\n",
    "![IMAGE NOT FOUND!!!!!!!!!!](forloop.png)"
   ]
  },
  {
   "cell_type": "code",
   "execution_count": null,
   "metadata": {},
   "outputs": [],
   "source": [
    "# EXAMPLE 17b: Let's look at a loop carefully.\n",
    "\n",
    "words = ['Apple', 'Banana', 'Cauliflower']\n",
    "\n",
    "for w in words:\n",
    "    num_letters = len(w)\n",
    "    print(f'{w} has {num_letters} letters.')\n",
    "    \n",
    "print(words)"
   ]
  },
  {
   "cell_type": "markdown",
   "metadata": {},
   "source": [
    "### * At the very beginning, `words` is created.  \n",
    "\n",
    "### * Then, we arrive at the loop.  Here's what happens:\n",
    "\n",
    "### --- `w` is assigned the first element of the list, which is `Apple`.\n",
    "### --- The body of the loop, two lines, is executed.\n",
    "### --- Since this is a loop, you don't go on -- you go back to the beginning of the loop, and make `w` the **next** entry in the list, which is `Banana`.\n",
    "### --- Then, you execute the two lines of the body again.\n",
    "### --- Since this is a loop, you don't go on -- you go back to the beginning of the loop, and make `w` the **next** entry in the list, which is `Cauliflower`.\n",
    "### --- Then, you execute the two lines of the body again.\n",
    "### --- Since this is a loop, you don't go on -- you go back to the beginning of the loop, and make `w` the **next** entry in the list -- but wait, there *is* no next element!  So you proceed past the loop body.\n",
    "\n",
    "\n",
    "<br><br><br><br><br>\n",
    "<br><br><br><br><br>\n"
   ]
  },
  {
   "cell_type": "code",
   "execution_count": null,
   "metadata": {},
   "outputs": [],
   "source": [
    "# EXAMPLE 17c: Basic Example\n",
    "# Let's analyze what's happening, then remove the \"\"\"\n",
    "\n",
    "\"\"\"\n",
    "Shanes_list = [3, 5, 1]\n",
    "variable = 2\n",
    "\n",
    "for x in Shanes_list:\n",
    "    variable = variable + x\n",
    "    print(variable)\n",
    "    if variable % 2 == x % 2:\n",
    "        print('Match')\n",
    "print('That was fun.')\n"
   ]
  },
  {
   "cell_type": "markdown",
   "metadata": {},
   "source": [
    "<br><br><br><br><br>\n",
    "<br><br><br><br><br>\n",
    "\n",
    "\n",
    "### * Here's how that code unwraps -- you wouldn't ever want to write it like this!"
   ]
  },
  {
   "cell_type": "code",
   "execution_count": null,
   "metadata": {},
   "outputs": [],
   "source": [
    "# EXAMPLE 17d: Basic Example Unwrapped\n",
    "# FOR ILLUSTRATION ONLY: This type of code is what a loop exists for!\n",
    "\n",
    "Shanes_list = [3, 5, 1]\n",
    "variable = 2\n",
    "\n",
    "# First time through the loop\n",
    "x = Shanes_list[0]\n",
    "variable = variable + x\n",
    "print(variable)\n",
    "if variable % 2 == x % 2:\n",
    "    print('Match')\n",
    "\n",
    "# Second time through the loop\n",
    "x = Shanes_list[1]\n",
    "variable = variable + x\n",
    "print(variable)\n",
    "if variable % 2 == x % 2:\n",
    "    print('Match')\n",
    "\n",
    "# Third time through the loop\n",
    "x = Shanes_list[2]\n",
    "variable = variable + x\n",
    "print(variable)\n",
    "if variable % 2 == x % 2:\n",
    "    print('Match')\n",
    "\n",
    "# Loop completed: program continues\n",
    "print('That was fun.')"
   ]
  },
  {
   "cell_type": "markdown",
   "metadata": {},
   "source": [
    "<br><br><br><br><br>\n",
    "<br><br><br><br><br>\n",
    "\n",
    "# 18. Words\n",
    "\n",
    "### Let's try to write an example.  Take the following list and write code which prints out every element, each on different lines, but with a `*` before each element:\n",
    "\n",
    "`* Apple` <br>\n",
    "`* Ball` <br>\n",
    "`* Animal` <br>\n",
    ".... <br>\n",
    "`* Beware`\n",
    "\n",
    "### **After that**, write code which prints out only the elements from the list which begin with the letter `B`."
   ]
  },
  {
   "cell_type": "code",
   "execution_count": null,
   "metadata": {},
   "outputs": [],
   "source": [
    "# EXAMPLE 18a: B Words\n",
    "\n",
    "word_list = ['Apple', 'Ball', 'Animal', 'Bell', 'Band', 'Carrot', 'Angry', 'Banana', 'Bear', 'Attic', 'Candle', 'Cup', 'Beware']\n",
    "\n",
    "# Print out every word, as above\n",
    "\n",
    "\n",
    "\n",
    "\n",
    "\n",
    "# Now, print out only the B Words\n",
    "\n",
    "\n",
    "\n"
   ]
  }
 ],
 "metadata": {
  "kernelspec": {
   "display_name": "Python 3 (ipykernel)",
   "language": "python",
   "name": "python3"
  },
  "language_info": {
   "codemirror_mode": {
    "name": "ipython",
    "version": 3
   },
   "file_extension": ".py",
   "mimetype": "text/x-python",
   "name": "python",
   "nbconvert_exporter": "python",
   "pygments_lexer": "ipython3",
   "version": "3.10.12"
  },
  "name": "_merged_merged"
 },
 "nbformat": 4,
 "nbformat_minor": 4
}
